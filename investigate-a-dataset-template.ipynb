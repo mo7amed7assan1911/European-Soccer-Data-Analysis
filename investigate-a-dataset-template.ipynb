{
 "cells": [
  {
   "cell_type": "markdown",
   "metadata": {},
   "source": [
    "# **European Soccer Data Analysis in seasons 2008 : 2016**\n",
    "\n",
    "# **Table of Contents**\n",
    "<ul>\n",
    "<li><a href=\"#intro\">Introduction</a></li>\n",
    "<li><a href=\"#wrangling\">Data Wrangling</a></li>\n",
    "<li><a href=\"#eda\">Exploratory Data Analysis</a></li>\n",
    "<li><a href=\"#conclusions\">Conclusions</a></li>\n",
    "</ul>"
   ]
  },
  {
   "cell_type": "markdown",
   "metadata": {},
   "source": [
    "<a id='intro'></a>\n",
    "# **Introduction**\n",
    "\n",
    "> In this project i gathered data from **[kaggle](https://www.kaggle.com/hugomathien/soccer)** and it is mysql data file that has data of:\n",
    ">\n",
    "> +25,000 matches.\\\n",
    "> +10,000 players.\\\n",
    "> 11 European Countries with their lead championship.\\\n",
    "> Seasons 2008 to 2016.\\\n",
    "> Players and Teams' attributes* sourced from EA Sports' FIFA video game series, including the weekly updates.\n",
    ">\n",
    ">\n",
    "> And in this project we will discover these data to help us answer some curious questions. personally, I am interested in discovering them.\n",
    ">\n",
    ">\n",
    "\n",
    "> ##### **Questions I will focus on in this analysis:**\n",
    ">1. What are the best Leagues with maximum number of goals per year ?\n",
    ">2. What are the best teams with the highest rate of winning matches?\n",
    ">3. What helps the best teams to win? In other words, what sets the best teams apart from the rest?\n",
    ">4. How teams' interest in defence has changed ?\n",
    ">5. Who are the best players of each year?\n",
    ">6. What features affects the overall rating of players?\n",
    "\n",
    "\n",
    "\n",
    "\n",
    "\n"
   ]
  },
  {
   "cell_type": "code",
   "execution_count": 94,
   "metadata": {},
   "outputs": [],
   "source": [
    "# importing lybraries used in the project.\n",
    "import pandas as pd\n",
    "import numpy as np\n",
    "import matplotlib.pyplot as plt\n",
    "import sqlite3\n",
    "%matplotlib inline"
   ]
  },
  {
   "cell_type": "markdown",
   "metadata": {},
   "source": [
    "<a id='wrangling'></a>\n",
    "# **Data Wrangling**"
   ]
  },
  {
   "cell_type": "code",
   "execution_count": 95,
   "metadata": {},
   "outputs": [],
   "source": [
    "# Load your data and print out a few lines. Perform operations to inspect data\n",
    "#   types and look for instances of missing or possibly errant data.\n",
    "\n",
    "con = sqlite3.connect('database.sqlite')\n",
    "country = pd.read_sql_query('SELECT * FROM Country', con)\n",
    "league  = pd.read_sql_query('SELECT * FROM League', con)\n",
    "match   = pd.read_sql_query('SELECT * FROM Match', con)\n",
    "player  = pd.read_sql_query('SELECT * FROM Player', con)\n",
    "player_att = pd.read_sql_query('SELECT * FROM Player_Attributes', con)\n",
    "team = pd.read_sql_query('SELECT * FROM Team', con)\n",
    "team_att = pd.read_sql_query('SELECT * FROM Team_Attributes', con)\n",
    "\n",
    "# to display all columns of the DataFrame.\n",
    "pd.set_option(\"display.max_columns\", None)\n"
   ]
  },
  {
   "cell_type": "markdown",
   "metadata": {},
   "source": [
    "## **Data Assessing** :"
   ]
  },
  {
   "cell_type": "markdown",
   "metadata": {},
   "source": [
    ">#### country dataset :"
   ]
  },
  {
   "cell_type": "code",
   "execution_count": 97,
   "metadata": {},
   "outputs": [
    {
     "name": "stdout",
     "output_type": "stream",
     "text": [
      "      id     name\n",
      "0      1  Belgium\n",
      "1   1729  England\n",
      "2   4769   France\n",
      "3   7809  Germany\n",
      "4  10257    Italy \n",
      "\n",
      "\n",
      "null values:  0\n",
      "duplicated data:  0\n"
     ]
    }
   ],
   "source": [
    "print(country.head(), '\\n\\n')\n",
    "\n",
    "print('null values: ', country.id.isnull().sum())\n",
    "print('duplicated data: ', country.id.duplicated().sum())"
   ]
  },
  {
   "cell_type": "code",
   "execution_count": 99,
   "metadata": {},
   "outputs": [
    {
     "name": "stdout",
     "output_type": "stream",
     "text": [
      "<class 'pandas.core.frame.DataFrame'>\n",
      "RangeIndex: 11 entries, 0 to 10\n",
      "Data columns (total 2 columns):\n",
      " #   Column  Non-Null Count  Dtype \n",
      "---  ------  --------------  ----- \n",
      " 0   id      11 non-null     int64 \n",
      " 1   name    11 non-null     object\n",
      "dtypes: int64(1), object(1)\n",
      "memory usage: 304.0+ bytes\n"
     ]
    }
   ],
   "source": [
    "# view on the country table\n",
    "country.info()"
   ]
  },
  {
   "cell_type": "code",
   "execution_count": 100,
   "metadata": {},
   "outputs": [
    {
     "name": "stdout",
     "output_type": "stream",
     "text": [
      "[ id ] column is unique\n"
     ]
    }
   ],
   "source": [
    "# trying to know what are the unique values: \n",
    "if match.id.duplicated().sum() == 0: \n",
    "    print('[ id ] column is unique')\n",
    "else: \n",
    "    print('[ id ] column is NOT unique.')"
   ]
  },
  {
   "cell_type": "markdown",
   "metadata": {},
   "source": [
    "> #### league dataset :\n"
   ]
  },
  {
   "cell_type": "code",
   "execution_count": 101,
   "metadata": {},
   "outputs": [
    {
     "name": "stdout",
     "output_type": "stream",
     "text": [
      "      id  country_id                    name\n",
      "0      1           1  Belgium Jupiler League\n",
      "1   1729        1729  England Premier League\n",
      "2   4769        4769          France Ligue 1\n",
      "3   7809        7809   Germany 1. Bundesliga\n",
      "4  10257       10257           Italy Serie A \n",
      "\n",
      "\n",
      "null values:  0\n",
      "duplicated data:  0\n"
     ]
    }
   ],
   "source": [
    "# exploring league dataset.\n",
    "print(league.head(), '\\n\\n')\n",
    "\n",
    "print('null values: ', league.id.isnull().sum())\n",
    "print('duplicated data: ', league.id.duplicated().sum())"
   ]
  },
  {
   "cell_type": "code",
   "execution_count": 102,
   "metadata": {},
   "outputs": [
    {
     "name": "stdout",
     "output_type": "stream",
     "text": [
      "<class 'pandas.core.frame.DataFrame'>\n",
      "RangeIndex: 11 entries, 0 to 10\n",
      "Data columns (total 3 columns):\n",
      " #   Column      Non-Null Count  Dtype \n",
      "---  ------      --------------  ----- \n",
      " 0   id          11 non-null     int64 \n",
      " 1   country_id  11 non-null     int64 \n",
      " 2   name        11 non-null     object\n",
      "dtypes: int64(2), object(1)\n",
      "memory usage: 392.0+ bytes\n"
     ]
    }
   ],
   "source": [
    "# view on league dataset.\n",
    "league.info()"
   ]
  },
  {
   "cell_type": "code",
   "execution_count": 103,
   "metadata": {},
   "outputs": [
    {
     "name": "stdout",
     "output_type": "stream",
     "text": [
      "[ id ] column is unique\n"
     ]
    }
   ],
   "source": [
    "# trying to know what are the unique values: \n",
    "if  league.id.duplicated().sum() == 0: \n",
    "    print('[ id ] column is unique')\n",
    "else: \n",
    "    print('[ id ] column is NOT unique.')"
   ]
  },
  {
   "cell_type": "markdown",
   "metadata": {},
   "source": [
    "> #### match dataset :\n",
    "    \n"
   ]
  },
  {
   "cell_type": "code",
   "execution_count": 104,
   "metadata": {},
   "outputs": [
    {
     "name": "stdout",
     "output_type": "stream",
     "text": [
      "   id  country_id  league_id  ...   BSH   BSD   BSA\n",
      "0   1           1          1  ...  1.73  3.40  4.20\n",
      "1   2           1          1  ...  1.91  3.25  3.60\n",
      "2   3           1          1  ...  2.30  3.20  2.75\n",
      "3   4           1          1  ...  1.44  3.75  6.50\n",
      "4   5           1          1  ...  4.75  3.30  1.67\n",
      "\n",
      "[5 rows x 115 columns] \n",
      "\n",
      "\n",
      "null values:  407395\n",
      "duplicated data:  0\n"
     ]
    }
   ],
   "source": [
    "# Notice we only showing here some columns as match data set has many columns.\n",
    "pd.set_option(\"display.max_columns\", 6)\n",
    "\n",
    "# exploring data of the matches to check if there is duplicates, nan values.\n",
    "print(match.head(), '\\n\\n')\n",
    "\n",
    "print('null values: ', match.isnull().sum().sum())\n",
    "print('duplicated data: ', match.duplicated().sum())"
   ]
  },
  {
   "cell_type": "code",
   "execution_count": 105,
   "metadata": {},
   "outputs": [
    {
     "data": {
      "text/plain": [
       "Index(['id', 'country_id', 'league_id', 'season', 'stage', 'date',\n",
       "       'match_api_id', 'home_team_api_id', 'away_team_api_id',\n",
       "       'home_team_goal',\n",
       "       ...\n",
       "       'SJA', 'VCH', 'VCD', 'VCA', 'GBH', 'GBD', 'GBA', 'BSH', 'BSD', 'BSA'],\n",
       "      dtype='object', length=115)"
      ]
     },
     "execution_count": 105,
     "metadata": {},
     "output_type": "execute_result"
    }
   ],
   "source": [
    "match.columns"
   ]
  },
  {
   "cell_type": "code",
   "execution_count": 106,
   "metadata": {},
   "outputs": [
    {
     "name": "stdout",
     "output_type": "stream",
     "text": [
      "[ match_api_id ] column is unique\n"
     ]
    }
   ],
   "source": [
    "# trying to know what are the unique values: \n",
    "if match.match_api_id.duplicated().sum() == 0: \n",
    "    print('[ match_api_id ] column is unique')\n",
    "else: \n",
    "    print('[ match_api_id ] column is NOT unique.')"
   ]
  },
  {
   "cell_type": "markdown",
   "metadata": {},
   "source": [
    "> #### player dataset :"
   ]
  },
  {
   "cell_type": "code",
   "execution_count": 107,
   "metadata": {},
   "outputs": [
    {
     "name": "stdout",
     "output_type": "stream",
     "text": [
      "   id  player_api_id  ...  height  weight\n",
      "0   1         505942  ...  182.88     187\n",
      "1   2         155782  ...  170.18     146\n",
      "2   3         162549  ...  170.18     163\n",
      "3   4          30572  ...  182.88     198\n",
      "4   5          23780  ...  182.88     154\n",
      "\n",
      "[5 rows x 7 columns] \n",
      "\n",
      "\n",
      "null values:  0\n",
      "duplicated data:  0\n"
     ]
    }
   ],
   "source": [
    "# Notice we only showing here some columns as match data set has many columns.\n",
    "pd.set_option(\"display.max_columns\", 5)\n",
    "\n",
    "# exploring match dataset.\n",
    "print(player.head(), '\\n\\n')\n",
    "\n",
    "print('null values: ', player.player_api_id.isnull().sum())\n",
    "print('duplicated data: ', player.player_api_id.duplicated().sum())"
   ]
  },
  {
   "cell_type": "code",
   "execution_count": 108,
   "metadata": {},
   "outputs": [
    {
     "name": "stdout",
     "output_type": "stream",
     "text": [
      "<class 'pandas.core.frame.DataFrame'>\n",
      "RangeIndex: 11060 entries, 0 to 11059\n",
      "Data columns (total 7 columns):\n",
      " #   Column              Non-Null Count  Dtype  \n",
      "---  ------              --------------  -----  \n",
      " 0   id                  11060 non-null  int64  \n",
      " 1   player_api_id       11060 non-null  int64  \n",
      " 2   player_name         11060 non-null  object \n",
      " 3   player_fifa_api_id  11060 non-null  int64  \n",
      " 4   birthday            11060 non-null  object \n",
      " 5   height              11060 non-null  float64\n",
      " 6   weight              11060 non-null  int64  \n",
      "dtypes: float64(1), int64(4), object(2)\n",
      "memory usage: 605.0+ KB\n"
     ]
    }
   ],
   "source": [
    "player.info()"
   ]
  },
  {
   "cell_type": "code",
   "execution_count": 109,
   "metadata": {},
   "outputs": [
    {
     "name": "stdout",
     "output_type": "stream",
     "text": [
      "[ player_api_id ] column is unique\n"
     ]
    }
   ],
   "source": [
    "# trying to know what are the unique values: \n",
    "if player.player_api_id.duplicated().sum() == 0: \n",
    "    print('[ player_api_id ] column is unique')\n",
    "else: \n",
    "    print('[ player_api_id ] column is NOT unique.')"
   ]
  },
  {
   "cell_type": "markdown",
   "metadata": {},
   "source": [
    "> #### player_attributes dataset : "
   ]
  },
  {
   "cell_type": "code",
   "execution_count": 110,
   "metadata": {},
   "outputs": [
    {
     "name": "stdout",
     "output_type": "stream",
     "text": [
      "   id  player_fifa_api_id  ...  gk_positioning gk_reflexes\n",
      "0   1              218353  ...             8.0         8.0\n",
      "1   2              218353  ...             8.0         8.0\n",
      "2   3              218353  ...             8.0         8.0\n",
      "3   4              218353  ...             7.0         7.0\n",
      "4   5              218353  ...             7.0         7.0\n",
      "\n",
      "[5 rows x 42 columns] \n",
      "\n",
      "\n",
      "null values:  47301\n",
      "duplicated data:  0\n"
     ]
    }
   ],
   "source": [
    "# Notice we only showing here some columns as match data set has many columns.\n",
    "pd.set_option(\"display.max_columns\", 5)\n",
    "\n",
    "# exploring data of the matches to check if there is duplicates, nan values.\n",
    "print(player_att.head(), '\\n\\n')\n",
    "\n",
    "print('null values: ', player_att.isnull().sum().sum())\n",
    "print('duplicated data: ', player_att.duplicated().sum())    "
   ]
  },
  {
   "cell_type": "code",
   "execution_count": 111,
   "metadata": {},
   "outputs": [
    {
     "name": "stdout",
     "output_type": "stream",
     "text": [
      "<class 'pandas.core.frame.DataFrame'>\n",
      "RangeIndex: 183978 entries, 0 to 183977\n",
      "Data columns (total 42 columns):\n",
      " #   Column               Non-Null Count   Dtype  \n",
      "---  ------               --------------   -----  \n",
      " 0   id                   183978 non-null  int64  \n",
      " 1   player_fifa_api_id   183978 non-null  int64  \n",
      " 2   player_api_id        183978 non-null  int64  \n",
      " 3   date                 183978 non-null  object \n",
      " 4   overall_rating       183142 non-null  float64\n",
      " 5   potential            183142 non-null  float64\n",
      " 6   preferred_foot       183142 non-null  object \n",
      " 7   attacking_work_rate  180748 non-null  object \n",
      " 8   defensive_work_rate  183142 non-null  object \n",
      " 9   crossing             183142 non-null  float64\n",
      " 10  finishing            183142 non-null  float64\n",
      " 11  heading_accuracy     183142 non-null  float64\n",
      " 12  short_passing        183142 non-null  float64\n",
      " 13  volleys              181265 non-null  float64\n",
      " 14  dribbling            183142 non-null  float64\n",
      " 15  curve                181265 non-null  float64\n",
      " 16  free_kick_accuracy   183142 non-null  float64\n",
      " 17  long_passing         183142 non-null  float64\n",
      " 18  ball_control         183142 non-null  float64\n",
      " 19  acceleration         183142 non-null  float64\n",
      " 20  sprint_speed         183142 non-null  float64\n",
      " 21  agility              181265 non-null  float64\n",
      " 22  reactions            183142 non-null  float64\n",
      " 23  balance              181265 non-null  float64\n",
      " 24  shot_power           183142 non-null  float64\n",
      " 25  jumping              181265 non-null  float64\n",
      " 26  stamina              183142 non-null  float64\n",
      " 27  strength             183142 non-null  float64\n",
      " 28  long_shots           183142 non-null  float64\n",
      " 29  aggression           183142 non-null  float64\n",
      " 30  interceptions        183142 non-null  float64\n",
      " 31  positioning          183142 non-null  float64\n",
      " 32  vision               181265 non-null  float64\n",
      " 33  penalties            183142 non-null  float64\n",
      " 34  marking              183142 non-null  float64\n",
      " 35  standing_tackle      183142 non-null  float64\n",
      " 36  sliding_tackle       181265 non-null  float64\n",
      " 37  gk_diving            183142 non-null  float64\n",
      " 38  gk_handling          183142 non-null  float64\n",
      " 39  gk_kicking           183142 non-null  float64\n",
      " 40  gk_positioning       183142 non-null  float64\n",
      " 41  gk_reflexes          183142 non-null  float64\n",
      "dtypes: float64(35), int64(3), object(4)\n",
      "memory usage: 59.0+ MB\n"
     ]
    }
   ],
   "source": [
    "player_att.info()"
   ]
  },
  {
   "cell_type": "markdown",
   "metadata": {},
   "source": [
    "> #### team dataset :"
   ]
  },
  {
   "cell_type": "code",
   "execution_count": 112,
   "metadata": {},
   "outputs": [
    {
     "name": "stdout",
     "output_type": "stream",
     "text": [
      "   id  team_api_id  team_fifa_api_id     team_long_name team_short_name\n",
      "0   1         9987             673.0           KRC Genk             GEN\n",
      "1   2         9993             675.0       Beerschot AC             BAC\n",
      "2   3        10000           15005.0   SV Zulte-Waregem             ZUL\n",
      "3   4         9994            2007.0   Sporting Lokeren             LOK\n",
      "4   5         9984            1750.0  KSV Cercle Brugge             CEB \n",
      "\n",
      "\n",
      "null values:  11\n",
      "duplicated data:  0\n"
     ]
    }
   ],
   "source": [
    "# Notice we only showing here some columns as match data set has many columns.\n",
    "pd.set_option(\"display.max_columns\", None)\n",
    "\n",
    "# exploring data of the matches to check if there is duplicates, nan values.\n",
    "print(team.head(), '\\n\\n')\n",
    "\n",
    "print('null values: ', team.isnull().sum().sum())\n",
    "print('duplicated data: ', team.duplicated().sum())    "
   ]
  },
  {
   "cell_type": "code",
   "execution_count": 113,
   "metadata": {},
   "outputs": [
    {
     "name": "stdout",
     "output_type": "stream",
     "text": [
      "<class 'pandas.core.frame.DataFrame'>\n",
      "RangeIndex: 299 entries, 0 to 298\n",
      "Data columns (total 5 columns):\n",
      " #   Column            Non-Null Count  Dtype  \n",
      "---  ------            --------------  -----  \n",
      " 0   id                299 non-null    int64  \n",
      " 1   team_api_id       299 non-null    int64  \n",
      " 2   team_fifa_api_id  288 non-null    float64\n",
      " 3   team_long_name    299 non-null    object \n",
      " 4   team_short_name   299 non-null    object \n",
      "dtypes: float64(1), int64(2), object(2)\n",
      "memory usage: 11.8+ KB\n"
     ]
    }
   ],
   "source": [
    "team.info()"
   ]
  },
  {
   "cell_type": "markdown",
   "metadata": {},
   "source": [
    "> #### team_attributes dataset :"
   ]
  },
  {
   "cell_type": "code",
   "execution_count": 114,
   "metadata": {},
   "outputs": [
    {
     "name": "stdout",
     "output_type": "stream",
     "text": [
      "   id  team_fifa_api_id  team_api_id  ... defenceTeamWidth  defenceTeamWidthClass defenceDefenderLineClass\n",
      "0   1               434         9930  ...               45                 Normal                    Cover\n",
      "1   2               434         9930  ...               54                 Normal                    Cover\n",
      "2   3               434         9930  ...               54                 Normal                    Cover\n",
      "3   4                77         8485  ...               70                   Wide                    Cover\n",
      "4   5                77         8485  ...               52                 Normal                    Cover\n",
      "\n",
      "[5 rows x 25 columns] \n",
      "\n",
      "\n",
      "null values:  969\n",
      "duplicated data:  0\n"
     ]
    }
   ],
   "source": [
    "# Notice we only showing here some columns as match data set has many columns.\n",
    "pd.set_option(\"display.max_columns\", 0)\n",
    "\n",
    "# exploring data of the matches to check if there is duplicates, nan values.\n",
    "print(team_att.head(), '\\n\\n')\n",
    "\n",
    "print('null values: ', team_att.isnull().sum().sum())\n",
    "print('duplicated data: ', team_att.duplicated().sum())    "
   ]
  },
  {
   "cell_type": "code",
   "execution_count": 115,
   "metadata": {},
   "outputs": [
    {
     "name": "stdout",
     "output_type": "stream",
     "text": [
      "[ team_api_id ] column is unique\n"
     ]
    }
   ],
   "source": [
    "# trying to know what are the unique values: \n",
    "if team.team_api_id.duplicated().sum() == 0: \n",
    "    print('[ team_api_id ] column is unique')\n",
    "else: \n",
    "    print('[ team_api_id ] column is NOT unique.')"
   ]
  },
  {
   "cell_type": "markdown",
   "metadata": {},
   "source": [
    "## Conclusion Of Assessing"
   ]
  },
  {
   "cell_type": "markdown",
   "metadata": {},
   "source": [
    "##### Country dataset conclusion: \n",
    "> 11 rows, 2 columns.\\\n",
    "> No null values.  \n",
    "> No duplicated rows.\n",
    "\n",
    "> [ **id** ] column is unique ... we can use it in relations between tables.\n"
   ]
  },
  {
   "cell_type": "markdown",
   "metadata": {},
   "source": [
    "##### league dataset conclusion: \n",
    "> 11 rows, 3 columns.\\\n",
    "> No null values.  \n",
    "> No duplicated rows.\n",
    "\n",
    "\n",
    "> [ **id** ] column is unique."
   ]
  },
  {
   "cell_type": "markdown",
   "metadata": {},
   "source": [
    "##### match dataset conclusion: \n",
    "> 25979 rows, 115 columns.\\\n",
    "> null values => 407395. ---- but all of them in columns we will not use.\\\n",
    "> duplicated rows => 0\n",
    "\n",
    "\n",
    ">**Need to be cleaned**\n",
    "\n",
    "> **[match_api_id]** is unique.\n",
    "    \n"
   ]
  },
  {
   "cell_type": "markdown",
   "metadata": {},
   "source": [
    "##### player dataset conclusion: \n",
    "> 11060 rows, 7 columns.\\\n",
    "> null values => 0\\\n",
    "> duplicated rows => 0\n",
    "\n",
    "> **Need to change dtypes**\n",
    "\n",
    "> [ **player_api_id** ] is unique"
   ]
  },
  {
   "cell_type": "markdown",
   "metadata": {},
   "source": [
    "##### player_att dataset conclusion: \n",
    "> 183978 rows, 42 columns.\\\n",
    "> null values => 47301\\\n",
    "> duplicated rows => 0\n",
    "\n",
    "> **Need to be cleaned**\n",
    "\n",
    "> No need for unique values as each player has more than one statistics all over the years."
   ]
  },
  {
   "cell_type": "markdown",
   "metadata": {},
   "source": [
    "##### team dataset conclusion: \n",
    "> 299 rows, 5 columns.\\\n",
    "> null values => 11 ---- but all of them from one column 'team_fifa_api_id'. \n",
    ">\n",
    "> duplicated rows => 0\n",
    "\n",
    "\n",
    "> **Need to be cleaned**\n",
    "\n",
    "> [ **team_api_id** ] is unique"
   ]
  },
  {
   "cell_type": "markdown",
   "metadata": {},
   "source": [
    "##### team_att dataset conclusion: \n",
    "> 1458 rows, 25 columns.\\\n",
    "> null values => 969 --- from one column 'buildUpPlayDribbling' so i prefer to delete it.\n",
    ">\n",
    "> duplicated rows => 0\n",
    "\n",
    "\n",
    "> **Need to be cleaned**\n",
    "\n",
    "> No need for unique values as each team has more than one statistics all over the years.\n",
    "\n"
   ]
  },
  {
   "cell_type": "markdown",
   "metadata": {},
   "source": [
    "\n",
    "## **Data Cleaning**"
   ]
  },
  {
   "cell_type": "markdown",
   "metadata": {
    "collapsed": true
   },
   "source": [
    "#### Cleaning 'match' dataset :"
   ]
  },
  {
   "cell_type": "code",
   "execution_count": 116,
   "metadata": {},
   "outputs": [
    {
     "name": "stdout",
     "output_type": "stream",
     "text": [
      "<class 'pandas.core.frame.DataFrame'>\n",
      "RangeIndex: 25979 entries, 0 to 25978\n",
      "Columns: 115 entries, id to BSA\n",
      "dtypes: float64(96), int64(9), object(10)\n",
      "memory usage: 22.8+ MB\n"
     ]
    }
   ],
   "source": [
    "match.info()"
   ]
  },
  {
   "cell_type": "code",
   "execution_count": 117,
   "metadata": {},
   "outputs": [],
   "source": [
    "# get rid of columns that have null values and we will not use them: \n",
    "match = match.loc[:, :'away_team_goal']"
   ]
  },
  {
   "cell_type": "code",
   "execution_count": 118,
   "metadata": {},
   "outputs": [
    {
     "name": "stdout",
     "output_type": "stream",
     "text": [
      "number of null values now:  0\n"
     ]
    }
   ],
   "source": [
    "# insuring that the data has no null now. \n",
    "print('number of null values now: ', match.isnull().sum().sum())"
   ]
  },
  {
   "cell_type": "code",
   "execution_count": 119,
   "metadata": {},
   "outputs": [
    {
     "name": "stdout",
     "output_type": "stream",
     "text": [
      "<class 'pandas.core.frame.DataFrame'>\n",
      "RangeIndex: 25979 entries, 0 to 25978\n",
      "Data columns (total 11 columns):\n",
      " #   Column            Non-Null Count  Dtype \n",
      "---  ------            --------------  ----- \n",
      " 0   id                25979 non-null  int64 \n",
      " 1   country_id        25979 non-null  int64 \n",
      " 2   league_id         25979 non-null  int64 \n",
      " 3   season            25979 non-null  object\n",
      " 4   stage             25979 non-null  int64 \n",
      " 5   date              25979 non-null  object\n",
      " 6   match_api_id      25979 non-null  int64 \n",
      " 7   home_team_api_id  25979 non-null  int64 \n",
      " 8   away_team_api_id  25979 non-null  int64 \n",
      " 9   home_team_goal    25979 non-null  int64 \n",
      " 10  away_team_goal    25979 non-null  int64 \n",
      "dtypes: int64(9), object(2)\n",
      "memory usage: 2.2+ MB\n"
     ]
    }
   ],
   "source": [
    "# checking all dtyeps are good or not.\n",
    "match.info()"
   ]
  },
  {
   "cell_type": "code",
   "execution_count": 120,
   "metadata": {},
   "outputs": [
    {
     "data": {
      "text/plain": [
       "True"
      ]
     },
     "execution_count": 120,
     "metadata": {},
     "output_type": "execute_result"
    }
   ],
   "source": [
    "# the country_id is the same for the league_id\n",
    "(match.country_id == match.league_id).all()"
   ]
  },
  {
   "cell_type": "code",
   "execution_count": 121,
   "metadata": {},
   "outputs": [],
   "source": [
    "# so we will drop the country_id\n",
    "match.drop(columns=['country_id'], inplace=True)"
   ]
  },
  {
   "cell_type": "code",
   "execution_count": 122,
   "metadata": {},
   "outputs": [],
   "source": [
    "# converting data in the 'date' column from object => datetime.\n",
    "match['date'] = pd.to_datetime(match['date'])"
   ]
  },
  {
   "cell_type": "code",
   "execution_count": 123,
   "metadata": {},
   "outputs": [],
   "source": [
    "# making a new column named 'Year' to use it to group data by the year or the season.\n",
    "match['Year'] = pd.DatetimeIndex(match['date']).year"
   ]
  },
  {
   "cell_type": "code",
   "execution_count": 124,
   "metadata": {},
   "outputs": [
    {
     "data": {
      "text/plain": [
       "Text(0, 0.5, 'Number of matches')"
      ]
     },
     "execution_count": 124,
     "metadata": {},
     "output_type": "execute_result"
    },
    {
     "data": {
      "image/png": "[encoded data removed]",
      "text/plain": [
       "<Figure size 576x576 with 1 Axes>"
      ]
     },
     "metadata": {
      "needs_background": "light"
     },
     "output_type": "display_data"
    }
   ],
   "source": [
    "match.Year.value_counts().plot(kind='bar', figsize=(8, 8))\n",
    "plt.ylabel('Number of matches', fontsize=14)"
   ]
  },
  {
   "cell_type": "markdown",
   "metadata": {},
   "source": [
    "> Notice the data should be consistant with all dataframes, if we check the data in [team_att] dataframe\\\n",
    "> we will found that there is no data for 2008, 2009, 2015 teams.\n",
    "\n",
    "> #### So our analysis of matches and teams will be by calculating the mean in the most cases.\n"
   ]
  },
  {
   "cell_type": "code",
   "execution_count": 125,
   "metadata": {},
   "outputs": [
    {
     "data": {
      "text/html": [
       "<div>\n",
       "<style scoped>\n",
       "    .dataframe tbody tr th:only-of-type {\n",
       "        vertical-align: middle;\n",
       "    }\n",
       "\n",
       "    .dataframe tbody tr th {\n",
       "        vertical-align: top;\n",
       "    }\n",
       "\n",
       "    .dataframe thead th {\n",
       "        text-align: right;\n",
       "    }\n",
       "</style>\n",
       "<table border=\"1\" class=\"dataframe\">\n",
       "  <thead>\n",
       "    <tr style=\"text-align: right;\">\n",
       "      <th></th>\n",
       "      <th>id</th>\n",
       "      <th>league_id</th>\n",
       "      <th>season</th>\n",
       "      <th>stage</th>\n",
       "      <th>date</th>\n",
       "      <th>match_api_id</th>\n",
       "      <th>home_team_api_id</th>\n",
       "      <th>away_team_api_id</th>\n",
       "      <th>home_team_goal</th>\n",
       "      <th>away_team_goal</th>\n",
       "      <th>Year</th>\n",
       "    </tr>\n",
       "  </thead>\n",
       "  <tbody>\n",
       "    <tr>\n",
       "      <th>0</th>\n",
       "      <td>1</td>\n",
       "      <td>1</td>\n",
       "      <td>2008/2009</td>\n",
       "      <td>1</td>\n",
       "      <td>2008-08-17</td>\n",
       "      <td>492473</td>\n",
       "      <td>9987</td>\n",
       "      <td>9993</td>\n",
       "      <td>1</td>\n",
       "      <td>1</td>\n",
       "      <td>2008</td>\n",
       "    </tr>\n",
       "    <tr>\n",
       "      <th>1</th>\n",
       "      <td>2</td>\n",
       "      <td>1</td>\n",
       "      <td>2008/2009</td>\n",
       "      <td>1</td>\n",
       "      <td>2008-08-16</td>\n",
       "      <td>492474</td>\n",
       "      <td>10000</td>\n",
       "      <td>9994</td>\n",
       "      <td>0</td>\n",
       "      <td>0</td>\n",
       "      <td>2008</td>\n",
       "    </tr>\n",
       "  </tbody>\n",
       "</table>\n",
       "</div>"
      ],
      "text/plain": [
       "   id  league_id     season  stage       date  ...  home_team_api_id  away_team_api_id  home_team_goal  away_team_goal  Year\n",
       "0   1          1  2008/2009      1 2008-08-17  ...              9987              9993               1               1  2008\n",
       "1   2          1  2008/2009      1 2008-08-16  ...             10000              9994               0               0  2008\n",
       "\n",
       "[2 rows x 11 columns]"
      ]
     },
     "execution_count": 125,
     "metadata": {},
     "output_type": "execute_result"
    }
   ],
   "source": [
    "match.head(2)"
   ]
  },
  {
   "cell_type": "markdown",
   "metadata": {
    "collapsed": true
   },
   "source": [
    "#### Cleaning 'player' dataset :"
   ]
  },
  {
   "cell_type": "code",
   "execution_count": 126,
   "metadata": {},
   "outputs": [
    {
     "name": "stdout",
     "output_type": "stream",
     "text": [
      "<class 'pandas.core.frame.DataFrame'>\n",
      "RangeIndex: 11060 entries, 0 to 11059\n",
      "Data columns (total 7 columns):\n",
      " #   Column              Non-Null Count  Dtype  \n",
      "---  ------              --------------  -----  \n",
      " 0   id                  11060 non-null  int64  \n",
      " 1   player_api_id       11060 non-null  int64  \n",
      " 2   player_name         11060 non-null  object \n",
      " 3   player_fifa_api_id  11060 non-null  int64  \n",
      " 4   birthday            11060 non-null  object \n",
      " 5   height              11060 non-null  float64\n",
      " 6   weight              11060 non-null  int64  \n",
      "dtypes: float64(1), int64(4), object(2)\n",
      "memory usage: 605.0+ KB\n"
     ]
    }
   ],
   "source": [
    "player.info()"
   ]
  },
  {
   "cell_type": "code",
   "execution_count": 127,
   "metadata": {},
   "outputs": [
    {
     "name": "stdout",
     "output_type": "stream",
     "text": [
      "<class 'pandas.core.frame.DataFrame'>\n",
      "RangeIndex: 11060 entries, 0 to 11059\n",
      "Data columns (total 7 columns):\n",
      " #   Column              Non-Null Count  Dtype         \n",
      "---  ------              --------------  -----         \n",
      " 0   id                  11060 non-null  int64         \n",
      " 1   player_api_id       11060 non-null  int64         \n",
      " 2   player_name         11060 non-null  object        \n",
      " 3   player_fifa_api_id  11060 non-null  int64         \n",
      " 4   birthday            11060 non-null  datetime64[ns]\n",
      " 5   height              11060 non-null  float64       \n",
      " 6   weight              11060 non-null  int64         \n",
      "dtypes: datetime64[ns](1), float64(1), int64(4), object(1)\n",
      "memory usage: 605.0+ KB\n"
     ]
    }
   ],
   "source": [
    "# we need to change data type of birthday column form object to date time.\n",
    "player['birthday'] = pd.to_datetime(player['birthday'])\n",
    "player.info()"
   ]
  },
  {
   "cell_type": "markdown",
   "metadata": {},
   "source": [
    "##### Distribution of ages of the players:"
   ]
  },
  {
   "cell_type": "code",
   "execution_count": 128,
   "metadata": {},
   "outputs": [
    {
     "name": "stderr",
     "output_type": "stream",
     "text": [
      "C:\\Users\\zmlka\\AppData\\Local\\Temp\\ipykernel_14700\\792103763.py:2: FutureWarning: The pandas.datetime class is deprecated and will be removed from pandas in a future version. Import from datetime module instead.\n",
      "  player['Age'] = pd.datetime.now().year - pd.DatetimeIndex(player['birthday']).year\n"
     ]
    }
   ],
   "source": [
    "# adding a new column named 'Age' to show the distribution of the ages.\n",
    "player['Age'] = pd.datetime.now().year - pd.DatetimeIndex(player['birthday']).year"
   ]
  },
  {
   "cell_type": "code",
   "execution_count": 129,
   "metadata": {},
   "outputs": [
    {
     "data": {
      "text/plain": [
       "Text(0, 0.5, 'No of players')"
      ]
     },
     "execution_count": 129,
     "metadata": {},
     "output_type": "execute_result"
    },
    {
     "data": {
      "image/png": "[encoded data removed]",
      "text/plain": [
       "<Figure size 720x576 with 1 Axes>"
      ]
     },
     "metadata": {
      "needs_background": "light"
     },
     "output_type": "display_data"
    }
   ],
   "source": [
    "ide = sorted(player.Age.value_counts().index)\n",
    "Data = player.Age.value_counts()[ide]\n",
    "plt.subplots(figsize=(10, 8))\n",
    "plt.stem(Data.index, Data.values, use_line_collection=True)\n",
    "plt.ylim(0, 1000)\n",
    "plt.xticks(fontsize=13)\n",
    "plt.xlabel('Age', fontsize=20)\n",
    "plt.title(\"Distribution of player's ages\", fontsize= 22)\n",
    "plt.ylabel('No of players', fontsize=20)\n"
   ]
  },
  {
   "cell_type": "markdown",
   "metadata": {},
   "source": [
    "The figure shows that the age curve is a normal distribution curve, so the average age of the players is 35 years."
   ]
  },
  {
   "cell_type": "markdown",
   "metadata": {
    "collapsed": true
   },
   "source": [
    "#### Cleaning 'player_att' dataset :"
   ]
  },
  {
   "cell_type": "code",
   "execution_count": 130,
   "metadata": {},
   "outputs": [
    {
     "name": "stdout",
     "output_type": "stream",
     "text": [
      "<class 'pandas.core.frame.DataFrame'>\n",
      "RangeIndex: 183978 entries, 0 to 183977\n",
      "Data columns (total 42 columns):\n",
      " #   Column               Non-Null Count   Dtype  \n",
      "---  ------               --------------   -----  \n",
      " 0   id                   183978 non-null  int64  \n",
      " 1   player_fifa_api_id   183978 non-null  int64  \n",
      " 2   player_api_id        183978 non-null  int64  \n",
      " 3   date                 183978 non-null  object \n",
      " 4   overall_rating       183142 non-null  float64\n",
      " 5   potential            183142 non-null  float64\n",
      " 6   preferred_foot       183142 non-null  object \n",
      " 7   attacking_work_rate  180748 non-null  object \n",
      " 8   defensive_work_rate  183142 non-null  object \n",
      " 9   crossing             183142 non-null  float64\n",
      " 10  finishing            183142 non-null  float64\n",
      " 11  heading_accuracy     183142 non-null  float64\n",
      " 12  short_passing        183142 non-null  float64\n",
      " 13  volleys              181265 non-null  float64\n",
      " 14  dribbling            183142 non-null  float64\n",
      " 15  curve                181265 non-null  float64\n",
      " 16  free_kick_accuracy   183142 non-null  float64\n",
      " 17  long_passing         183142 non-null  float64\n",
      " 18  ball_control         183142 non-null  float64\n",
      " 19  acceleration         183142 non-null  float64\n",
      " 20  sprint_speed         183142 non-null  float64\n",
      " 21  agility              181265 non-null  float64\n",
      " 22  reactions            183142 non-null  float64\n",
      " 23  balance              181265 non-null  float64\n",
      " 24  shot_power           183142 non-null  float64\n",
      " 25  jumping              181265 non-null  float64\n",
      " 26  stamina              183142 non-null  float64\n",
      " 27  strength             183142 non-null  float64\n",
      " 28  long_shots           183142 non-null  float64\n",
      " 29  aggression           183142 non-null  float64\n",
      " 30  interceptions        183142 non-null  float64\n",
      " 31  positioning          183142 non-null  float64\n",
      " 32  vision               181265 non-null  float64\n",
      " 33  penalties            183142 non-null  float64\n",
      " 34  marking              183142 non-null  float64\n",
      " 35  standing_tackle      183142 non-null  float64\n",
      " 36  sliding_tackle       181265 non-null  float64\n",
      " 37  gk_diving            183142 non-null  float64\n",
      " 38  gk_handling          183142 non-null  float64\n",
      " 39  gk_kicking           183142 non-null  float64\n",
      " 40  gk_positioning       183142 non-null  float64\n",
      " 41  gk_reflexes          183142 non-null  float64\n",
      "dtypes: float64(35), int64(3), object(4)\n",
      "memory usage: 59.0+ MB\n"
     ]
    }
   ],
   "source": [
    "player_att.info()"
   ]
  },
  {
   "cell_type": "code",
   "execution_count": 131,
   "metadata": {},
   "outputs": [],
   "source": [
    "# we will drop all players who has null values in their attributes.\n",
    "player_att.dropna(inplace=True)"
   ]
  },
  {
   "cell_type": "code",
   "execution_count": 132,
   "metadata": {},
   "outputs": [
    {
     "name": "stdout",
     "output_type": "stream",
     "text": [
      "number of null values now:  0\n"
     ]
    }
   ],
   "source": [
    "# check if there is null values: \n",
    "print('number of null values now: ', player_att.isnull().any().sum());"
   ]
  },
  {
   "cell_type": "code",
   "execution_count": 133,
   "metadata": {},
   "outputs": [
    {
     "name": "stdout",
     "output_type": "stream",
     "text": [
      "<class 'pandas.core.frame.DataFrame'>\n",
      "Int64Index: 180354 entries, 0 to 183977\n",
      "Data columns (total 43 columns):\n",
      " #   Column               Non-Null Count   Dtype         \n",
      "---  ------               --------------   -----         \n",
      " 0   id                   180354 non-null  int64         \n",
      " 1   player_fifa_api_id   180354 non-null  int64         \n",
      " 2   player_api_id        180354 non-null  int64         \n",
      " 3   date                 180354 non-null  datetime64[ns]\n",
      " 4   overall_rating       180354 non-null  float64       \n",
      " 5   potential            180354 non-null  float64       \n",
      " 6   preferred_foot       180354 non-null  object        \n",
      " 7   attacking_work_rate  180354 non-null  object        \n",
      " 8   defensive_work_rate  180354 non-null  object        \n",
      " 9   crossing             180354 non-null  float64       \n",
      " 10  finishing            180354 non-null  float64       \n",
      " 11  heading_accuracy     180354 non-null  float64       \n",
      " 12  short_passing        180354 non-null  float64       \n",
      " 13  volleys              180354 non-null  float64       \n",
      " 14  dribbling            180354 non-null  float64       \n",
      " 15  curve                180354 non-null  float64       \n",
      " 16  free_kick_accuracy   180354 non-null  float64       \n",
      " 17  long_passing         180354 non-null  float64       \n",
      " 18  ball_control         180354 non-null  float64       \n",
      " 19  acceleration         180354 non-null  float64       \n",
      " 20  sprint_speed         180354 non-null  float64       \n",
      " 21  agility              180354 non-null  float64       \n",
      " 22  reactions            180354 non-null  float64       \n",
      " 23  balance              180354 non-null  float64       \n",
      " 24  shot_power           180354 non-null  float64       \n",
      " 25  jumping              180354 non-null  float64       \n",
      " 26  stamina              180354 non-null  float64       \n",
      " 27  strength             180354 non-null  float64       \n",
      " 28  long_shots           180354 non-null  float64       \n",
      " 29  aggression           180354 non-null  float64       \n",
      " 30  interceptions        180354 non-null  float64       \n",
      " 31  positioning          180354 non-null  float64       \n",
      " 32  vision               180354 non-null  float64       \n",
      " 33  penalties            180354 non-null  float64       \n",
      " 34  marking              180354 non-null  float64       \n",
      " 35  standing_tackle      180354 non-null  float64       \n",
      " 36  sliding_tackle       180354 non-null  float64       \n",
      " 37  gk_diving            180354 non-null  float64       \n",
      " 38  gk_handling          180354 non-null  float64       \n",
      " 39  gk_kicking           180354 non-null  float64       \n",
      " 40  gk_positioning       180354 non-null  float64       \n",
      " 41  gk_reflexes          180354 non-null  float64       \n",
      " 42  Year                 180354 non-null  int64         \n",
      "dtypes: datetime64[ns](1), float64(35), int64(4), object(3)\n",
      "memory usage: 60.5+ MB\n"
     ]
    }
   ],
   "source": [
    "# we need to change data type of [date] column form object to date time.\n",
    "player_att['date'] = pd.to_datetime(player_att['date'])\n",
    "\n",
    "# and making a column [Year] of data.\n",
    "player_att['Year'] = pd.DatetimeIndex(player_att['date']).year\n",
    "player_att.info()"
   ]
  },
  {
   "cell_type": "markdown",
   "metadata": {},
   "source": [
    "#### Cleaning 'team' dataset :"
   ]
  },
  {
   "cell_type": "code",
   "execution_count": 134,
   "metadata": {},
   "outputs": [
    {
     "name": "stdout",
     "output_type": "stream",
     "text": [
      "<class 'pandas.core.frame.DataFrame'>\n",
      "RangeIndex: 299 entries, 0 to 298\n",
      "Data columns (total 5 columns):\n",
      " #   Column            Non-Null Count  Dtype  \n",
      "---  ------            --------------  -----  \n",
      " 0   id                299 non-null    int64  \n",
      " 1   team_api_id       299 non-null    int64  \n",
      " 2   team_fifa_api_id  288 non-null    float64\n",
      " 3   team_long_name    299 non-null    object \n",
      " 4   team_short_name   299 non-null    object \n",
      "dtypes: float64(1), int64(2), object(2)\n",
      "memory usage: 11.8+ KB\n"
     ]
    }
   ],
   "source": [
    "team.info()"
   ]
  },
  {
   "cell_type": "code",
   "execution_count": 135,
   "metadata": {},
   "outputs": [],
   "source": [
    "# droping all rows that contain null values (11 value)\n",
    "team.dropna(inplace=True)"
   ]
  },
  {
   "cell_type": "code",
   "execution_count": 136,
   "metadata": {},
   "outputs": [
    {
     "name": "stdout",
     "output_type": "stream",
     "text": [
      "number of null values now:  0\n"
     ]
    }
   ],
   "source": [
    "# check if there is null values: \n",
    "print('number of null values now: ', team.isnull().any().sum());"
   ]
  },
  {
   "cell_type": "markdown",
   "metadata": {},
   "source": [
    "#### Cleaning 'team_att' dataset :"
   ]
  },
  {
   "cell_type": "code",
   "execution_count": 137,
   "metadata": {},
   "outputs": [
    {
     "name": "stdout",
     "output_type": "stream",
     "text": [
      "<class 'pandas.core.frame.DataFrame'>\n",
      "RangeIndex: 1458 entries, 0 to 1457\n",
      "Data columns (total 25 columns):\n",
      " #   Column                          Non-Null Count  Dtype  \n",
      "---  ------                          --------------  -----  \n",
      " 0   id                              1458 non-null   int64  \n",
      " 1   team_fifa_api_id                1458 non-null   int64  \n",
      " 2   team_api_id                     1458 non-null   int64  \n",
      " 3   date                            1458 non-null   object \n",
      " 4   buildUpPlaySpeed                1458 non-null   int64  \n",
      " 5   buildUpPlaySpeedClass           1458 non-null   object \n",
      " 6   buildUpPlayDribbling            489 non-null    float64\n",
      " 7   buildUpPlayDribblingClass       1458 non-null   object \n",
      " 8   buildUpPlayPassing              1458 non-null   int64  \n",
      " 9   buildUpPlayPassingClass         1458 non-null   object \n",
      " 10  buildUpPlayPositioningClass     1458 non-null   object \n",
      " 11  chanceCreationPassing           1458 non-null   int64  \n",
      " 12  chanceCreationPassingClass      1458 non-null   object \n",
      " 13  chanceCreationCrossing          1458 non-null   int64  \n",
      " 14  chanceCreationCrossingClass     1458 non-null   object \n",
      " 15  chanceCreationShooting          1458 non-null   int64  \n",
      " 16  chanceCreationShootingClass     1458 non-null   object \n",
      " 17  chanceCreationPositioningClass  1458 non-null   object \n",
      " 18  defencePressure                 1458 non-null   int64  \n",
      " 19  defencePressureClass            1458 non-null   object \n",
      " 20  defenceAggression               1458 non-null   int64  \n",
      " 21  defenceAggressionClass          1458 non-null   object \n",
      " 22  defenceTeamWidth                1458 non-null   int64  \n",
      " 23  defenceTeamWidthClass           1458 non-null   object \n",
      " 24  defenceDefenderLineClass        1458 non-null   object \n",
      "dtypes: float64(1), int64(11), object(13)\n",
      "memory usage: 284.9+ KB\n"
     ]
    }
   ],
   "source": [
    "team_att.info()"
   ]
  },
  {
   "cell_type": "code",
   "execution_count": 138,
   "metadata": {},
   "outputs": [],
   "source": [
    "# i'd like to drop the column itself 'which contains all null values' as i wont use it.\n",
    "team_att.drop(columns = 'buildUpPlayDribbling', inplace=True)"
   ]
  },
  {
   "cell_type": "code",
   "execution_count": 139,
   "metadata": {},
   "outputs": [
    {
     "name": "stdout",
     "output_type": "stream",
     "text": [
      "Number of null values now:  0\n"
     ]
    }
   ],
   "source": [
    "# cheacking for other null values:\n",
    "print('Number of null values now: ', team_att.isnull().sum().sum())"
   ]
  },
  {
   "cell_type": "code",
   "execution_count": 140,
   "metadata": {},
   "outputs": [
    {
     "name": "stdout",
     "output_type": "stream",
     "text": [
      "<class 'pandas.core.frame.DataFrame'>\n",
      "RangeIndex: 1458 entries, 0 to 1457\n",
      "Data columns (total 24 columns):\n",
      " #   Column                          Non-Null Count  Dtype \n",
      "---  ------                          --------------  ----- \n",
      " 0   id                              1458 non-null   int64 \n",
      " 1   team_fifa_api_id                1458 non-null   int64 \n",
      " 2   team_api_id                     1458 non-null   int64 \n",
      " 3   date                            1458 non-null   object\n",
      " 4   buildUpPlaySpeed                1458 non-null   int64 \n",
      " 5   buildUpPlaySpeedClass           1458 non-null   object\n",
      " 6   buildUpPlayDribblingClass       1458 non-null   object\n",
      " 7   buildUpPlayPassing              1458 non-null   int64 \n",
      " 8   buildUpPlayPassingClass         1458 non-null   object\n",
      " 9   buildUpPlayPositioningClass     1458 non-null   object\n",
      " 10  chanceCreationPassing           1458 non-null   int64 \n",
      " 11  chanceCreationPassingClass      1458 non-null   object\n",
      " 12  chanceCreationCrossing          1458 non-null   int64 \n",
      " 13  chanceCreationCrossingClass     1458 non-null   object\n",
      " 14  chanceCreationShooting          1458 non-null   int64 \n",
      " 15  chanceCreationShootingClass     1458 non-null   object\n",
      " 16  chanceCreationPositioningClass  1458 non-null   object\n",
      " 17  defencePressure                 1458 non-null   int64 \n",
      " 18  defencePressureClass            1458 non-null   object\n",
      " 19  defenceAggression               1458 non-null   int64 \n",
      " 20  defenceAggressionClass          1458 non-null   object\n",
      " 21  defenceTeamWidth                1458 non-null   int64 \n",
      " 22  defenceTeamWidthClass           1458 non-null   object\n",
      " 23  defenceDefenderLineClass        1458 non-null   object\n",
      "dtypes: int64(11), object(13)\n",
      "memory usage: 273.5+ KB\n"
     ]
    }
   ],
   "source": [
    "team_att.info()"
   ]
  },
  {
   "cell_type": "code",
   "execution_count": 141,
   "metadata": {},
   "outputs": [],
   "source": [
    "# changing the dtype of the column [date] from object to date time.\n",
    "# and making a column with the name 'Year'.\n",
    "\n",
    "team_att['date'] = pd.to_datetime(team_att['date'])\n",
    "team_att['Year'] = pd.DatetimeIndex(team_att['date']).year"
   ]
  },
  {
   "cell_type": "markdown",
   "metadata": {},
   "source": [
    "#### Merging \"Player\" with \"Player_att\" datasets, to put players' information with his stats into one dataset \"PlayerData\"."
   ]
  },
  {
   "cell_type": "code",
   "execution_count": 142,
   "metadata": {},
   "outputs": [
    {
     "name": "stdout",
     "output_type": "stream",
     "text": [
      "Columns of [player] are: \n",
      " ['id', 'player_api_id', 'player_name', 'player_fifa_api_id', 'birthday', 'height', 'weight', 'Age'] \n",
      "\n",
      "Columns of [player_att] are: \n",
      " ['id', 'player_fifa_api_id', 'player_api_id', 'date', 'overall_rating', 'potential', 'preferred_foot', 'attacking_work_rate', 'defensive_work_rate', 'crossing', 'finishing', 'heading_accuracy', 'short_passing', 'volleys', 'dribbling', 'curve', 'free_kick_accuracy', 'long_passing', 'ball_control', 'acceleration', 'sprint_speed', 'agility', 'reactions', 'balance', 'shot_power', 'jumping', 'stamina', 'strength', 'long_shots', 'aggression', 'interceptions', 'positioning', 'vision', 'penalties', 'marking', 'standing_tackle', 'sliding_tackle', 'gk_diving', 'gk_handling', 'gk_kicking', 'gk_positioning', 'gk_reflexes', 'Year'] \n",
      "\n"
     ]
    }
   ],
   "source": [
    "print('Columns of [player] are:', '\\n' , list(player.columns), '\\n');\n",
    "print('Columns of [player_att] are:', '\\n' , list(player_att.columns), '\\n');"
   ]
  },
  {
   "cell_type": "code",
   "execution_count": 143,
   "metadata": {},
   "outputs": [
    {
     "data": {
      "text/html": [
       "<div>\n",
       "<style scoped>\n",
       "    .dataframe tbody tr th:only-of-type {\n",
       "        vertical-align: middle;\n",
       "    }\n",
       "\n",
       "    .dataframe tbody tr th {\n",
       "        vertical-align: top;\n",
       "    }\n",
       "\n",
       "    .dataframe thead th {\n",
       "        text-align: right;\n",
       "    }\n",
       "</style>\n",
       "<table border=\"1\" class=\"dataframe\">\n",
       "  <thead>\n",
       "    <tr style=\"text-align: right;\">\n",
       "      <th></th>\n",
       "      <th>id_x</th>\n",
       "      <th>player_api_id</th>\n",
       "      <th>player_name</th>\n",
       "      <th>player_fifa_api_id_x</th>\n",
       "      <th>birthday</th>\n",
       "      <th>height</th>\n",
       "      <th>weight</th>\n",
       "      <th>Age</th>\n",
       "      <th>id_y</th>\n",
       "      <th>player_fifa_api_id_y</th>\n",
       "      <th>date</th>\n",
       "      <th>overall_rating</th>\n",
       "      <th>potential</th>\n",
       "      <th>preferred_foot</th>\n",
       "      <th>attacking_work_rate</th>\n",
       "      <th>defensive_work_rate</th>\n",
       "      <th>crossing</th>\n",
       "      <th>finishing</th>\n",
       "      <th>heading_accuracy</th>\n",
       "      <th>short_passing</th>\n",
       "      <th>volleys</th>\n",
       "      <th>dribbling</th>\n",
       "      <th>curve</th>\n",
       "      <th>free_kick_accuracy</th>\n",
       "      <th>long_passing</th>\n",
       "      <th>ball_control</th>\n",
       "      <th>acceleration</th>\n",
       "      <th>sprint_speed</th>\n",
       "      <th>agility</th>\n",
       "      <th>reactions</th>\n",
       "      <th>balance</th>\n",
       "      <th>shot_power</th>\n",
       "      <th>jumping</th>\n",
       "      <th>stamina</th>\n",
       "      <th>strength</th>\n",
       "      <th>long_shots</th>\n",
       "      <th>aggression</th>\n",
       "      <th>interceptions</th>\n",
       "      <th>positioning</th>\n",
       "      <th>vision</th>\n",
       "      <th>penalties</th>\n",
       "      <th>marking</th>\n",
       "      <th>standing_tackle</th>\n",
       "      <th>sliding_tackle</th>\n",
       "      <th>gk_diving</th>\n",
       "      <th>gk_handling</th>\n",
       "      <th>gk_kicking</th>\n",
       "      <th>gk_positioning</th>\n",
       "      <th>gk_reflexes</th>\n",
       "      <th>Year</th>\n",
       "    </tr>\n",
       "  </thead>\n",
       "  <tbody>\n",
       "    <tr>\n",
       "      <th>0</th>\n",
       "      <td>1</td>\n",
       "      <td>505942</td>\n",
       "      <td>Aaron Appindangoye</td>\n",
       "      <td>218353</td>\n",
       "      <td>1992-02-29</td>\n",
       "      <td>182.88</td>\n",
       "      <td>187</td>\n",
       "      <td>30</td>\n",
       "      <td>1</td>\n",
       "      <td>218353</td>\n",
       "      <td>2016-02-18</td>\n",
       "      <td>67.0</td>\n",
       "      <td>71.0</td>\n",
       "      <td>right</td>\n",
       "      <td>medium</td>\n",
       "      <td>medium</td>\n",
       "      <td>49.0</td>\n",
       "      <td>44.0</td>\n",
       "      <td>71.0</td>\n",
       "      <td>61.0</td>\n",
       "      <td>44.0</td>\n",
       "      <td>51.0</td>\n",
       "      <td>45.0</td>\n",
       "      <td>39.0</td>\n",
       "      <td>64.0</td>\n",
       "      <td>49.0</td>\n",
       "      <td>60.0</td>\n",
       "      <td>64.0</td>\n",
       "      <td>59.0</td>\n",
       "      <td>47.0</td>\n",
       "      <td>65.0</td>\n",
       "      <td>55.0</td>\n",
       "      <td>58.0</td>\n",
       "      <td>54.0</td>\n",
       "      <td>76.0</td>\n",
       "      <td>35.0</td>\n",
       "      <td>71.0</td>\n",
       "      <td>70.0</td>\n",
       "      <td>45.0</td>\n",
       "      <td>54.0</td>\n",
       "      <td>48.0</td>\n",
       "      <td>65.0</td>\n",
       "      <td>69.0</td>\n",
       "      <td>69.0</td>\n",
       "      <td>6.0</td>\n",
       "      <td>11.0</td>\n",
       "      <td>10.0</td>\n",
       "      <td>8.0</td>\n",
       "      <td>8.0</td>\n",
       "      <td>2016</td>\n",
       "    </tr>\n",
       "    <tr>\n",
       "      <th>1</th>\n",
       "      <td>1</td>\n",
       "      <td>505942</td>\n",
       "      <td>Aaron Appindangoye</td>\n",
       "      <td>218353</td>\n",
       "      <td>1992-02-29</td>\n",
       "      <td>182.88</td>\n",
       "      <td>187</td>\n",
       "      <td>30</td>\n",
       "      <td>2</td>\n",
       "      <td>218353</td>\n",
       "      <td>2015-11-19</td>\n",
       "      <td>67.0</td>\n",
       "      <td>71.0</td>\n",
       "      <td>right</td>\n",
       "      <td>medium</td>\n",
       "      <td>medium</td>\n",
       "      <td>49.0</td>\n",
       "      <td>44.0</td>\n",
       "      <td>71.0</td>\n",
       "      <td>61.0</td>\n",
       "      <td>44.0</td>\n",
       "      <td>51.0</td>\n",
       "      <td>45.0</td>\n",
       "      <td>39.0</td>\n",
       "      <td>64.0</td>\n",
       "      <td>49.0</td>\n",
       "      <td>60.0</td>\n",
       "      <td>64.0</td>\n",
       "      <td>59.0</td>\n",
       "      <td>47.0</td>\n",
       "      <td>65.0</td>\n",
       "      <td>55.0</td>\n",
       "      <td>58.0</td>\n",
       "      <td>54.0</td>\n",
       "      <td>76.0</td>\n",
       "      <td>35.0</td>\n",
       "      <td>71.0</td>\n",
       "      <td>70.0</td>\n",
       "      <td>45.0</td>\n",
       "      <td>54.0</td>\n",
       "      <td>48.0</td>\n",
       "      <td>65.0</td>\n",
       "      <td>69.0</td>\n",
       "      <td>69.0</td>\n",
       "      <td>6.0</td>\n",
       "      <td>11.0</td>\n",
       "      <td>10.0</td>\n",
       "      <td>8.0</td>\n",
       "      <td>8.0</td>\n",
       "      <td>2015</td>\n",
       "    </tr>\n",
       "  </tbody>\n",
       "</table>\n",
       "</div>"
      ],
      "text/plain": [
       "   id_x  player_api_id         player_name  player_fifa_api_id_x  ... gk_kicking  gk_positioning  gk_reflexes  Year\n",
       "0     1         505942  Aaron Appindangoye                218353  ...       10.0             8.0          8.0  2016\n",
       "1     1         505942  Aaron Appindangoye                218353  ...       10.0             8.0          8.0  2015\n",
       "\n",
       "[2 rows x 50 columns]"
      ]
     },
     "execution_count": 143,
     "metadata": {},
     "output_type": "execute_result"
    }
   ],
   "source": [
    "PlayerData = pd.merge(left=player, right=player_att, on=['player_api_id'])\n",
    "PlayerData.head(2)"
   ]
  },
  {
   "cell_type": "code",
   "execution_count": 144,
   "metadata": {},
   "outputs": [],
   "source": [
    "# droping not important columns in the new DataFrame.\n",
    "# deleting the [player] and [player_att] dataframes, as there is no need for them now.\n",
    "\n",
    "try:\n",
    "    PlayerData.drop(columns=['id_x', 'id_y', 'player_api_id', 'player_fifa_api_id_x', 'player_fifa_api_id_y', 'birthday'], inplace=True)\n",
    "    del player\n",
    "    del player_att\n",
    "except:\n",
    "    print('already these columns were dropped!')\n",
    "    \n"
   ]
  },
  {
   "cell_type": "markdown",
   "metadata": {},
   "source": [
    "#### Merging \"team\" with \"team_att\" datasets, to put teams' information with their stats into one dataset \"TeamData\"."
   ]
  },
  {
   "cell_type": "code",
   "execution_count": 145,
   "metadata": {},
   "outputs": [
    {
     "name": "stdout",
     "output_type": "stream",
     "text": [
      "Columns of [team] are: \n",
      " ['id', 'team_api_id', 'team_fifa_api_id', 'team_long_name', 'team_short_name'] \n",
      "\n",
      "Columns of [team_att] are: \n",
      " ['id', 'team_fifa_api_id', 'team_api_id', 'date', 'buildUpPlaySpeed', 'buildUpPlaySpeedClass', 'buildUpPlayDribblingClass', 'buildUpPlayPassing', 'buildUpPlayPassingClass', 'buildUpPlayPositioningClass', 'chanceCreationPassing', 'chanceCreationPassingClass', 'chanceCreationCrossing', 'chanceCreationCrossingClass', 'chanceCreationShooting', 'chanceCreationShootingClass', 'chanceCreationPositioningClass', 'defencePressure', 'defencePressureClass', 'defenceAggression', 'defenceAggressionClass', 'defenceTeamWidth', 'defenceTeamWidthClass', 'defenceDefenderLineClass', 'Year'] \n",
      "\n"
     ]
    }
   ],
   "source": [
    "print('Columns of [team] are:', '\\n' , list(team.columns), '\\n');\n",
    "print('Columns of [team_att] are:', '\\n' , list(team_att.columns), '\\n');"
   ]
  },
  {
   "cell_type": "code",
   "execution_count": 146,
   "metadata": {},
   "outputs": [
    {
     "data": {
      "text/html": [
       "<div>\n",
       "<style scoped>\n",
       "    .dataframe tbody tr th:only-of-type {\n",
       "        vertical-align: middle;\n",
       "    }\n",
       "\n",
       "    .dataframe tbody tr th {\n",
       "        vertical-align: top;\n",
       "    }\n",
       "\n",
       "    .dataframe thead th {\n",
       "        text-align: right;\n",
       "    }\n",
       "</style>\n",
       "<table border=\"1\" class=\"dataframe\">\n",
       "  <thead>\n",
       "    <tr style=\"text-align: right;\">\n",
       "      <th></th>\n",
       "      <th>id_x</th>\n",
       "      <th>team_api_id</th>\n",
       "      <th>team_fifa_api_id_x</th>\n",
       "      <th>team_long_name</th>\n",
       "      <th>team_short_name</th>\n",
       "      <th>id_y</th>\n",
       "      <th>team_fifa_api_id_y</th>\n",
       "      <th>date</th>\n",
       "      <th>buildUpPlaySpeed</th>\n",
       "      <th>buildUpPlaySpeedClass</th>\n",
       "      <th>buildUpPlayDribblingClass</th>\n",
       "      <th>buildUpPlayPassing</th>\n",
       "      <th>buildUpPlayPassingClass</th>\n",
       "      <th>buildUpPlayPositioningClass</th>\n",
       "      <th>chanceCreationPassing</th>\n",
       "      <th>chanceCreationPassingClass</th>\n",
       "      <th>chanceCreationCrossing</th>\n",
       "      <th>chanceCreationCrossingClass</th>\n",
       "      <th>chanceCreationShooting</th>\n",
       "      <th>chanceCreationShootingClass</th>\n",
       "      <th>chanceCreationPositioningClass</th>\n",
       "      <th>defencePressure</th>\n",
       "      <th>defencePressureClass</th>\n",
       "      <th>defenceAggression</th>\n",
       "      <th>defenceAggressionClass</th>\n",
       "      <th>defenceTeamWidth</th>\n",
       "      <th>defenceTeamWidthClass</th>\n",
       "      <th>defenceDefenderLineClass</th>\n",
       "      <th>Year</th>\n",
       "    </tr>\n",
       "  </thead>\n",
       "  <tbody>\n",
       "    <tr>\n",
       "      <th>0</th>\n",
       "      <td>1</td>\n",
       "      <td>9987</td>\n",
       "      <td>673.0</td>\n",
       "      <td>KRC Genk</td>\n",
       "      <td>GEN</td>\n",
       "      <td>485</td>\n",
       "      <td>673</td>\n",
       "      <td>2010-02-22</td>\n",
       "      <td>45</td>\n",
       "      <td>Balanced</td>\n",
       "      <td>Little</td>\n",
       "      <td>45</td>\n",
       "      <td>Mixed</td>\n",
       "      <td>Organised</td>\n",
       "      <td>50</td>\n",
       "      <td>Normal</td>\n",
       "      <td>35</td>\n",
       "      <td>Normal</td>\n",
       "      <td>60</td>\n",
       "      <td>Normal</td>\n",
       "      <td>Organised</td>\n",
       "      <td>70</td>\n",
       "      <td>High</td>\n",
       "      <td>65</td>\n",
       "      <td>Press</td>\n",
       "      <td>70</td>\n",
       "      <td>Wide</td>\n",
       "      <td>Cover</td>\n",
       "      <td>2010</td>\n",
       "    </tr>\n",
       "    <tr>\n",
       "      <th>1</th>\n",
       "      <td>1</td>\n",
       "      <td>9987</td>\n",
       "      <td>673.0</td>\n",
       "      <td>KRC Genk</td>\n",
       "      <td>GEN</td>\n",
       "      <td>486</td>\n",
       "      <td>673</td>\n",
       "      <td>2011-02-22</td>\n",
       "      <td>66</td>\n",
       "      <td>Balanced</td>\n",
       "      <td>Little</td>\n",
       "      <td>52</td>\n",
       "      <td>Mixed</td>\n",
       "      <td>Organised</td>\n",
       "      <td>65</td>\n",
       "      <td>Normal</td>\n",
       "      <td>66</td>\n",
       "      <td>Normal</td>\n",
       "      <td>51</td>\n",
       "      <td>Normal</td>\n",
       "      <td>Organised</td>\n",
       "      <td>48</td>\n",
       "      <td>Medium</td>\n",
       "      <td>47</td>\n",
       "      <td>Press</td>\n",
       "      <td>54</td>\n",
       "      <td>Normal</td>\n",
       "      <td>Offside Trap</td>\n",
       "      <td>2011</td>\n",
       "    </tr>\n",
       "  </tbody>\n",
       "</table>\n",
       "</div>"
      ],
      "text/plain": [
       "   id_x  team_api_id  team_fifa_api_id_x  ... defenceTeamWidthClass defenceDefenderLineClass  Year\n",
       "0     1         9987               673.0  ...                  Wide                    Cover  2010\n",
       "1     1         9987               673.0  ...                Normal             Offside Trap  2011\n",
       "\n",
       "[2 rows x 29 columns]"
      ]
     },
     "execution_count": 146,
     "metadata": {},
     "output_type": "execute_result"
    }
   ],
   "source": [
    "TeamData = pd.merge(left=team, right=team_att, on=['team_api_id'])\n",
    "TeamData.head(2)"
   ]
  },
  {
   "cell_type": "code",
   "execution_count": 147,
   "metadata": {},
   "outputs": [],
   "source": [
    "# droping not important columns in the new DataFrame.\n",
    "# deleting the team and team_att datasets as no need for them now.\n",
    "try:\n",
    "    TeamData.drop(columns=['id_x', 'date', 'id_y', 'team_fifa_api_id_x', 'team_fifa_api_id_y'], inplace=True)\n",
    "    del team\n",
    "    del team_att\n",
    "except:\n",
    "    print('already these columns were dropped!')"
   ]
  },
  {
   "cell_type": "code",
   "execution_count": 148,
   "metadata": {},
   "outputs": [
    {
     "data": {
      "text/html": [
       "<div>\n",
       "<style scoped>\n",
       "    .dataframe tbody tr th:only-of-type {\n",
       "        vertical-align: middle;\n",
       "    }\n",
       "\n",
       "    .dataframe tbody tr th {\n",
       "        vertical-align: top;\n",
       "    }\n",
       "\n",
       "    .dataframe thead th {\n",
       "        text-align: right;\n",
       "    }\n",
       "</style>\n",
       "<table border=\"1\" class=\"dataframe\">\n",
       "  <thead>\n",
       "    <tr style=\"text-align: right;\">\n",
       "      <th></th>\n",
       "      <th>team_api_id</th>\n",
       "      <th>team_long_name</th>\n",
       "      <th>team_short_name</th>\n",
       "      <th>buildUpPlaySpeed</th>\n",
       "      <th>buildUpPlaySpeedClass</th>\n",
       "      <th>buildUpPlayDribblingClass</th>\n",
       "      <th>buildUpPlayPassing</th>\n",
       "      <th>buildUpPlayPassingClass</th>\n",
       "      <th>buildUpPlayPositioningClass</th>\n",
       "      <th>chanceCreationPassing</th>\n",
       "      <th>chanceCreationPassingClass</th>\n",
       "      <th>chanceCreationCrossing</th>\n",
       "      <th>chanceCreationCrossingClass</th>\n",
       "      <th>chanceCreationShooting</th>\n",
       "      <th>chanceCreationShootingClass</th>\n",
       "      <th>chanceCreationPositioningClass</th>\n",
       "      <th>defencePressure</th>\n",
       "      <th>defencePressureClass</th>\n",
       "      <th>defenceAggression</th>\n",
       "      <th>defenceAggressionClass</th>\n",
       "      <th>defenceTeamWidth</th>\n",
       "      <th>defenceTeamWidthClass</th>\n",
       "      <th>defenceDefenderLineClass</th>\n",
       "      <th>Year</th>\n",
       "    </tr>\n",
       "  </thead>\n",
       "  <tbody>\n",
       "    <tr>\n",
       "      <th>0</th>\n",
       "      <td>9987</td>\n",
       "      <td>KRC Genk</td>\n",
       "      <td>GEN</td>\n",
       "      <td>45</td>\n",
       "      <td>Balanced</td>\n",
       "      <td>Little</td>\n",
       "      <td>45</td>\n",
       "      <td>Mixed</td>\n",
       "      <td>Organised</td>\n",
       "      <td>50</td>\n",
       "      <td>Normal</td>\n",
       "      <td>35</td>\n",
       "      <td>Normal</td>\n",
       "      <td>60</td>\n",
       "      <td>Normal</td>\n",
       "      <td>Organised</td>\n",
       "      <td>70</td>\n",
       "      <td>High</td>\n",
       "      <td>65</td>\n",
       "      <td>Press</td>\n",
       "      <td>70</td>\n",
       "      <td>Wide</td>\n",
       "      <td>Cover</td>\n",
       "      <td>2010</td>\n",
       "    </tr>\n",
       "    <tr>\n",
       "      <th>1</th>\n",
       "      <td>9987</td>\n",
       "      <td>KRC Genk</td>\n",
       "      <td>GEN</td>\n",
       "      <td>66</td>\n",
       "      <td>Balanced</td>\n",
       "      <td>Little</td>\n",
       "      <td>52</td>\n",
       "      <td>Mixed</td>\n",
       "      <td>Organised</td>\n",
       "      <td>65</td>\n",
       "      <td>Normal</td>\n",
       "      <td>66</td>\n",
       "      <td>Normal</td>\n",
       "      <td>51</td>\n",
       "      <td>Normal</td>\n",
       "      <td>Organised</td>\n",
       "      <td>48</td>\n",
       "      <td>Medium</td>\n",
       "      <td>47</td>\n",
       "      <td>Press</td>\n",
       "      <td>54</td>\n",
       "      <td>Normal</td>\n",
       "      <td>Offside Trap</td>\n",
       "      <td>2011</td>\n",
       "    </tr>\n",
       "  </tbody>\n",
       "</table>\n",
       "</div>"
      ],
      "text/plain": [
       "   team_api_id team_long_name team_short_name  ...  defenceTeamWidthClass defenceDefenderLineClass  Year\n",
       "0         9987       KRC Genk             GEN  ...                   Wide                    Cover  2010\n",
       "1         9987       KRC Genk             GEN  ...                 Normal             Offside Trap  2011\n",
       "\n",
       "[2 rows x 24 columns]"
      ]
     },
     "execution_count": 148,
     "metadata": {},
     "output_type": "execute_result"
    }
   ],
   "source": [
    "TeamData.head(2)"
   ]
  },
  {
   "cell_type": "markdown",
   "metadata": {},
   "source": [
    "#### Merging \"league\" with \"country\" datasets, to put them into one dataset \"LeagueCoun\"."
   ]
  },
  {
   "cell_type": "code",
   "execution_count": 149,
   "metadata": {},
   "outputs": [
    {
     "name": "stdout",
     "output_type": "stream",
     "text": [
      "Columns of [league] are: \n",
      " ['id', 'country_id', 'name'] \n",
      "\n",
      "Columns of [country] are: \n",
      " ['id', 'name'] \n",
      "\n"
     ]
    }
   ],
   "source": [
    "print('Columns of [league] are:', '\\n' , list(league.columns), '\\n');\n",
    "print('Columns of [country] are:', '\\n' , list(country.columns), '\\n');"
   ]
  },
  {
   "cell_type": "code",
   "execution_count": 150,
   "metadata": {},
   "outputs": [
    {
     "data": {
      "text/html": [
       "<div>\n",
       "<style scoped>\n",
       "    .dataframe tbody tr th:only-of-type {\n",
       "        vertical-align: middle;\n",
       "    }\n",
       "\n",
       "    .dataframe tbody tr th {\n",
       "        vertical-align: top;\n",
       "    }\n",
       "\n",
       "    .dataframe thead th {\n",
       "        text-align: right;\n",
       "    }\n",
       "</style>\n",
       "<table border=\"1\" class=\"dataframe\">\n",
       "  <thead>\n",
       "    <tr style=\"text-align: right;\">\n",
       "      <th></th>\n",
       "      <th>id_x</th>\n",
       "      <th>country_id</th>\n",
       "      <th>name_x</th>\n",
       "      <th>id_y</th>\n",
       "      <th>name_y</th>\n",
       "    </tr>\n",
       "  </thead>\n",
       "  <tbody>\n",
       "    <tr>\n",
       "      <th>0</th>\n",
       "      <td>1</td>\n",
       "      <td>1</td>\n",
       "      <td>Belgium Jupiler League</td>\n",
       "      <td>1</td>\n",
       "      <td>Belgium</td>\n",
       "    </tr>\n",
       "    <tr>\n",
       "      <th>1</th>\n",
       "      <td>1729</td>\n",
       "      <td>1729</td>\n",
       "      <td>England Premier League</td>\n",
       "      <td>1729</td>\n",
       "      <td>England</td>\n",
       "    </tr>\n",
       "    <tr>\n",
       "      <th>2</th>\n",
       "      <td>4769</td>\n",
       "      <td>4769</td>\n",
       "      <td>France Ligue 1</td>\n",
       "      <td>4769</td>\n",
       "      <td>France</td>\n",
       "    </tr>\n",
       "    <tr>\n",
       "      <th>3</th>\n",
       "      <td>7809</td>\n",
       "      <td>7809</td>\n",
       "      <td>Germany 1. Bundesliga</td>\n",
       "      <td>7809</td>\n",
       "      <td>Germany</td>\n",
       "    </tr>\n",
       "    <tr>\n",
       "      <th>4</th>\n",
       "      <td>10257</td>\n",
       "      <td>10257</td>\n",
       "      <td>Italy Serie A</td>\n",
       "      <td>10257</td>\n",
       "      <td>Italy</td>\n",
       "    </tr>\n",
       "  </tbody>\n",
       "</table>\n",
       "</div>"
      ],
      "text/plain": [
       "    id_x  country_id                  name_x   id_y   name_y\n",
       "0      1           1  Belgium Jupiler League      1  Belgium\n",
       "1   1729        1729  England Premier League   1729  England\n",
       "2   4769        4769          France Ligue 1   4769   France\n",
       "3   7809        7809   Germany 1. Bundesliga   7809  Germany\n",
       "4  10257       10257           Italy Serie A  10257    Italy"
      ]
     },
     "execution_count": 150,
     "metadata": {},
     "output_type": "execute_result"
    }
   ],
   "source": [
    "LeagueCoun = pd.merge(left=league, right=country, left_on='country_id', right_on='id')\n",
    "LeagueCoun.head()"
   ]
  },
  {
   "cell_type": "code",
   "execution_count": 151,
   "metadata": {},
   "outputs": [],
   "source": [
    "# droping not important columns in the new DataFrame.\n",
    "# deleting the [league] and [country] datasets as no need for them now.\n",
    "\n",
    "# we notice that all country_ids is the same for their league_ids \n",
    "try:\n",
    "    LeagueCoun.drop(columns=['id_y', 'country_id'], inplace=True)\n",
    "    del league\n",
    "    del country\n",
    "except:\n",
    "    print('already these columns were dropped!')"
   ]
  },
  {
   "cell_type": "code",
   "execution_count": 152,
   "metadata": {},
   "outputs": [],
   "source": [
    "# renaming columns \n",
    "LeagueCoun.rename(columns={'id_x': 'league_id', 'name_x': 'league_name', 'name_y': 'country_name'}, inplace=True)"
   ]
  },
  {
   "cell_type": "code",
   "execution_count": 153,
   "metadata": {},
   "outputs": [
    {
     "data": {
      "text/html": [
       "<div>\n",
       "<style scoped>\n",
       "    .dataframe tbody tr th:only-of-type {\n",
       "        vertical-align: middle;\n",
       "    }\n",
       "\n",
       "    .dataframe tbody tr th {\n",
       "        vertical-align: top;\n",
       "    }\n",
       "\n",
       "    .dataframe thead th {\n",
       "        text-align: right;\n",
       "    }\n",
       "</style>\n",
       "<table border=\"1\" class=\"dataframe\">\n",
       "  <thead>\n",
       "    <tr style=\"text-align: right;\">\n",
       "      <th></th>\n",
       "      <th>league_id</th>\n",
       "      <th>league_name</th>\n",
       "      <th>country_name</th>\n",
       "    </tr>\n",
       "  </thead>\n",
       "  <tbody>\n",
       "    <tr>\n",
       "      <th>0</th>\n",
       "      <td>1</td>\n",
       "      <td>Belgium Jupiler League</td>\n",
       "      <td>Belgium</td>\n",
       "    </tr>\n",
       "    <tr>\n",
       "      <th>1</th>\n",
       "      <td>1729</td>\n",
       "      <td>England Premier League</td>\n",
       "      <td>England</td>\n",
       "    </tr>\n",
       "    <tr>\n",
       "      <th>2</th>\n",
       "      <td>4769</td>\n",
       "      <td>France Ligue 1</td>\n",
       "      <td>France</td>\n",
       "    </tr>\n",
       "    <tr>\n",
       "      <th>3</th>\n",
       "      <td>7809</td>\n",
       "      <td>Germany 1. Bundesliga</td>\n",
       "      <td>Germany</td>\n",
       "    </tr>\n",
       "    <tr>\n",
       "      <th>4</th>\n",
       "      <td>10257</td>\n",
       "      <td>Italy Serie A</td>\n",
       "      <td>Italy</td>\n",
       "    </tr>\n",
       "    <tr>\n",
       "      <th>5</th>\n",
       "      <td>13274</td>\n",
       "      <td>Netherlands Eredivisie</td>\n",
       "      <td>Netherlands</td>\n",
       "    </tr>\n",
       "    <tr>\n",
       "      <th>6</th>\n",
       "      <td>15722</td>\n",
       "      <td>Poland Ekstraklasa</td>\n",
       "      <td>Poland</td>\n",
       "    </tr>\n",
       "    <tr>\n",
       "      <th>7</th>\n",
       "      <td>17642</td>\n",
       "      <td>Portugal Liga ZON Sagres</td>\n",
       "      <td>Portugal</td>\n",
       "    </tr>\n",
       "    <tr>\n",
       "      <th>8</th>\n",
       "      <td>19694</td>\n",
       "      <td>Scotland Premier League</td>\n",
       "      <td>Scotland</td>\n",
       "    </tr>\n",
       "    <tr>\n",
       "      <th>9</th>\n",
       "      <td>21518</td>\n",
       "      <td>Spain LIGA BBVA</td>\n",
       "      <td>Spain</td>\n",
       "    </tr>\n",
       "    <tr>\n",
       "      <th>10</th>\n",
       "      <td>24558</td>\n",
       "      <td>Switzerland Super League</td>\n",
       "      <td>Switzerland</td>\n",
       "    </tr>\n",
       "  </tbody>\n",
       "</table>\n",
       "</div>"
      ],
      "text/plain": [
       "    league_id               league_name country_name\n",
       "0           1    Belgium Jupiler League      Belgium\n",
       "1        1729    England Premier League      England\n",
       "2        4769            France Ligue 1       France\n",
       "3        7809     Germany 1. Bundesliga      Germany\n",
       "4       10257             Italy Serie A        Italy\n",
       "5       13274    Netherlands Eredivisie  Netherlands\n",
       "6       15722        Poland Ekstraklasa       Poland\n",
       "7       17642  Portugal Liga ZON Sagres     Portugal\n",
       "8       19694   Scotland Premier League     Scotland\n",
       "9       21518           Spain LIGA BBVA        Spain\n",
       "10      24558  Switzerland Super League  Switzerland"
      ]
     },
     "execution_count": 153,
     "metadata": {},
     "output_type": "execute_result"
    }
   ],
   "source": [
    "LeagueCoun"
   ]
  },
  {
   "cell_type": "markdown",
   "metadata": {},
   "source": [
    "#### Merging \"LeagueCoun\" with \"match\" datasets, to put matchs' information with their leagues into one dataset \"Match_League_Country\"."
   ]
  },
  {
   "cell_type": "code",
   "execution_count": 154,
   "metadata": {},
   "outputs": [
    {
     "name": "stdout",
     "output_type": "stream",
     "text": [
      "Columns of [LeagueCoun] are: \n",
      " ['league_id', 'league_name', 'country_name'] \n",
      "\n",
      "Columns of [match] are: \n",
      " ['id', 'league_id', 'season', 'stage', 'date', 'match_api_id', 'home_team_api_id', 'away_team_api_id', 'home_team_goal', 'away_team_goal', 'Year'] \n",
      "\n"
     ]
    }
   ],
   "source": [
    "print('Columns of [LeagueCoun] are:', '\\n' , list(LeagueCoun.columns), '\\n');\n",
    "print('Columns of [match] are:', '\\n' , list(match.columns), '\\n');"
   ]
  },
  {
   "cell_type": "code",
   "execution_count": 155,
   "metadata": {},
   "outputs": [
    {
     "data": {
      "text/html": [
       "<div>\n",
       "<style scoped>\n",
       "    .dataframe tbody tr th:only-of-type {\n",
       "        vertical-align: middle;\n",
       "    }\n",
       "\n",
       "    .dataframe tbody tr th {\n",
       "        vertical-align: top;\n",
       "    }\n",
       "\n",
       "    .dataframe thead th {\n",
       "        text-align: right;\n",
       "    }\n",
       "</style>\n",
       "<table border=\"1\" class=\"dataframe\">\n",
       "  <thead>\n",
       "    <tr style=\"text-align: right;\">\n",
       "      <th></th>\n",
       "      <th>id</th>\n",
       "      <th>league_id</th>\n",
       "      <th>season</th>\n",
       "      <th>stage</th>\n",
       "      <th>date</th>\n",
       "      <th>match_api_id</th>\n",
       "      <th>home_team_api_id</th>\n",
       "      <th>away_team_api_id</th>\n",
       "      <th>home_team_goal</th>\n",
       "      <th>away_team_goal</th>\n",
       "      <th>Year</th>\n",
       "      <th>league_name</th>\n",
       "      <th>country_name</th>\n",
       "    </tr>\n",
       "  </thead>\n",
       "  <tbody>\n",
       "    <tr>\n",
       "      <th>0</th>\n",
       "      <td>1</td>\n",
       "      <td>1</td>\n",
       "      <td>2008/2009</td>\n",
       "      <td>1</td>\n",
       "      <td>2008-08-17</td>\n",
       "      <td>492473</td>\n",
       "      <td>9987</td>\n",
       "      <td>9993</td>\n",
       "      <td>1</td>\n",
       "      <td>1</td>\n",
       "      <td>2008</td>\n",
       "      <td>Belgium Jupiler League</td>\n",
       "      <td>Belgium</td>\n",
       "    </tr>\n",
       "    <tr>\n",
       "      <th>1</th>\n",
       "      <td>2</td>\n",
       "      <td>1</td>\n",
       "      <td>2008/2009</td>\n",
       "      <td>1</td>\n",
       "      <td>2008-08-16</td>\n",
       "      <td>492474</td>\n",
       "      <td>10000</td>\n",
       "      <td>9994</td>\n",
       "      <td>0</td>\n",
       "      <td>0</td>\n",
       "      <td>2008</td>\n",
       "      <td>Belgium Jupiler League</td>\n",
       "      <td>Belgium</td>\n",
       "    </tr>\n",
       "  </tbody>\n",
       "</table>\n",
       "</div>"
      ],
      "text/plain": [
       "   id  league_id     season  stage  ... away_team_goal  Year             league_name  country_name\n",
       "0   1          1  2008/2009      1  ...              1  2008  Belgium Jupiler League       Belgium\n",
       "1   2          1  2008/2009      1  ...              0  2008  Belgium Jupiler League       Belgium\n",
       "\n",
       "[2 rows x 13 columns]"
      ]
     },
     "execution_count": 155,
     "metadata": {},
     "output_type": "execute_result"
    }
   ],
   "source": [
    "Match_League_Country = pd.merge(left=match, right=LeagueCoun, on='league_id')\n",
    "Match_League_Country.head(2)"
   ]
  },
  {
   "cell_type": "code",
   "execution_count": 156,
   "metadata": {},
   "outputs": [],
   "source": [
    "# droping not important columns in the new DataFrame.\n",
    "# deleting the [LeagueCoun] as we don't need it now after constructing [Match_League_Country]\n",
    "\n",
    "# we notice that all country_ids is the same for their league_ids \n",
    "try:\n",
    "    Match_League_Country.drop(columns=['id', 'league_id'], inplace=True)\n",
    "    del LeagueCoun\n",
    "except:\n",
    "    print('already these columns were dropped!')\n"
   ]
  },
  {
   "cell_type": "code",
   "execution_count": 157,
   "metadata": {},
   "outputs": [],
   "source": [
    "# making a new column [Total_goals].\n",
    "Match_League_Country['Total_goals'] = Match_League_Country.home_team_goal + Match_League_Country.away_team_goal"
   ]
  },
  {
   "cell_type": "code",
   "execution_count": 158,
   "metadata": {},
   "outputs": [
    {
     "data": {
      "text/html": [
       "<div>\n",
       "<style scoped>\n",
       "    .dataframe tbody tr th:only-of-type {\n",
       "        vertical-align: middle;\n",
       "    }\n",
       "\n",
       "    .dataframe tbody tr th {\n",
       "        vertical-align: top;\n",
       "    }\n",
       "\n",
       "    .dataframe thead th {\n",
       "        text-align: right;\n",
       "    }\n",
       "</style>\n",
       "<table border=\"1\" class=\"dataframe\">\n",
       "  <thead>\n",
       "    <tr style=\"text-align: right;\">\n",
       "      <th></th>\n",
       "      <th>season</th>\n",
       "      <th>stage</th>\n",
       "      <th>date</th>\n",
       "      <th>match_api_id</th>\n",
       "      <th>home_team_api_id</th>\n",
       "      <th>away_team_api_id</th>\n",
       "      <th>home_team_goal</th>\n",
       "      <th>away_team_goal</th>\n",
       "      <th>Year</th>\n",
       "      <th>league_name</th>\n",
       "      <th>country_name</th>\n",
       "      <th>Total_goals</th>\n",
       "    </tr>\n",
       "  </thead>\n",
       "  <tbody>\n",
       "    <tr>\n",
       "      <th>0</th>\n",
       "      <td>2008/2009</td>\n",
       "      <td>1</td>\n",
       "      <td>2008-08-17</td>\n",
       "      <td>492473</td>\n",
       "      <td>9987</td>\n",
       "      <td>9993</td>\n",
       "      <td>1</td>\n",
       "      <td>1</td>\n",
       "      <td>2008</td>\n",
       "      <td>Belgium Jupiler League</td>\n",
       "      <td>Belgium</td>\n",
       "      <td>2</td>\n",
       "    </tr>\n",
       "    <tr>\n",
       "      <th>1</th>\n",
       "      <td>2008/2009</td>\n",
       "      <td>1</td>\n",
       "      <td>2008-08-16</td>\n",
       "      <td>492474</td>\n",
       "      <td>10000</td>\n",
       "      <td>9994</td>\n",
       "      <td>0</td>\n",
       "      <td>0</td>\n",
       "      <td>2008</td>\n",
       "      <td>Belgium Jupiler League</td>\n",
       "      <td>Belgium</td>\n",
       "      <td>0</td>\n",
       "    </tr>\n",
       "  </tbody>\n",
       "</table>\n",
       "</div>"
      ],
      "text/plain": [
       "      season  stage       date  match_api_id  ...  Year             league_name  country_name  Total_goals\n",
       "0  2008/2009      1 2008-08-17        492473  ...  2008  Belgium Jupiler League       Belgium            2\n",
       "1  2008/2009      1 2008-08-16        492474  ...  2008  Belgium Jupiler League       Belgium            0\n",
       "\n",
       "[2 rows x 12 columns]"
      ]
     },
     "execution_count": 158,
     "metadata": {},
     "output_type": "execute_result"
    }
   ],
   "source": [
    "Match_League_Country.head(2)"
   ]
  },
  {
   "cell_type": "markdown",
   "metadata": {},
   "source": [
    "### Our final data tables which we have and will use: "
   ]
  },
  {
   "cell_type": "code",
   "execution_count": 159,
   "metadata": {},
   "outputs": [
    {
     "data": {
      "text/html": [
       "<div>\n",
       "<style scoped>\n",
       "    .dataframe tbody tr th:only-of-type {\n",
       "        vertical-align: middle;\n",
       "    }\n",
       "\n",
       "    .dataframe tbody tr th {\n",
       "        vertical-align: top;\n",
       "    }\n",
       "\n",
       "    .dataframe thead th {\n",
       "        text-align: right;\n",
       "    }\n",
       "</style>\n",
       "<table border=\"1\" class=\"dataframe\">\n",
       "  <thead>\n",
       "    <tr style=\"text-align: right;\">\n",
       "      <th></th>\n",
       "      <th>player_name</th>\n",
       "      <th>height</th>\n",
       "      <th>weight</th>\n",
       "      <th>Age</th>\n",
       "      <th>date</th>\n",
       "      <th>overall_rating</th>\n",
       "      <th>potential</th>\n",
       "      <th>preferred_foot</th>\n",
       "      <th>attacking_work_rate</th>\n",
       "      <th>defensive_work_rate</th>\n",
       "      <th>crossing</th>\n",
       "      <th>finishing</th>\n",
       "      <th>heading_accuracy</th>\n",
       "      <th>short_passing</th>\n",
       "      <th>volleys</th>\n",
       "      <th>dribbling</th>\n",
       "      <th>curve</th>\n",
       "      <th>free_kick_accuracy</th>\n",
       "      <th>long_passing</th>\n",
       "      <th>ball_control</th>\n",
       "      <th>acceleration</th>\n",
       "      <th>sprint_speed</th>\n",
       "      <th>agility</th>\n",
       "      <th>reactions</th>\n",
       "      <th>balance</th>\n",
       "      <th>shot_power</th>\n",
       "      <th>jumping</th>\n",
       "      <th>stamina</th>\n",
       "      <th>strength</th>\n",
       "      <th>long_shots</th>\n",
       "      <th>aggression</th>\n",
       "      <th>interceptions</th>\n",
       "      <th>positioning</th>\n",
       "      <th>vision</th>\n",
       "      <th>penalties</th>\n",
       "      <th>marking</th>\n",
       "      <th>standing_tackle</th>\n",
       "      <th>sliding_tackle</th>\n",
       "      <th>gk_diving</th>\n",
       "      <th>gk_handling</th>\n",
       "      <th>gk_kicking</th>\n",
       "      <th>gk_positioning</th>\n",
       "      <th>gk_reflexes</th>\n",
       "      <th>Year</th>\n",
       "    </tr>\n",
       "  </thead>\n",
       "  <tbody>\n",
       "    <tr>\n",
       "      <th>0</th>\n",
       "      <td>Aaron Appindangoye</td>\n",
       "      <td>182.88</td>\n",
       "      <td>187</td>\n",
       "      <td>30</td>\n",
       "      <td>2016-02-18</td>\n",
       "      <td>67.0</td>\n",
       "      <td>71.0</td>\n",
       "      <td>right</td>\n",
       "      <td>medium</td>\n",
       "      <td>medium</td>\n",
       "      <td>49.0</td>\n",
       "      <td>44.0</td>\n",
       "      <td>71.0</td>\n",
       "      <td>61.0</td>\n",
       "      <td>44.0</td>\n",
       "      <td>51.0</td>\n",
       "      <td>45.0</td>\n",
       "      <td>39.0</td>\n",
       "      <td>64.0</td>\n",
       "      <td>49.0</td>\n",
       "      <td>60.0</td>\n",
       "      <td>64.0</td>\n",
       "      <td>59.0</td>\n",
       "      <td>47.0</td>\n",
       "      <td>65.0</td>\n",
       "      <td>55.0</td>\n",
       "      <td>58.0</td>\n",
       "      <td>54.0</td>\n",
       "      <td>76.0</td>\n",
       "      <td>35.0</td>\n",
       "      <td>71.0</td>\n",
       "      <td>70.0</td>\n",
       "      <td>45.0</td>\n",
       "      <td>54.0</td>\n",
       "      <td>48.0</td>\n",
       "      <td>65.0</td>\n",
       "      <td>69.0</td>\n",
       "      <td>69.0</td>\n",
       "      <td>6.0</td>\n",
       "      <td>11.0</td>\n",
       "      <td>10.0</td>\n",
       "      <td>8.0</td>\n",
       "      <td>8.0</td>\n",
       "      <td>2016</td>\n",
       "    </tr>\n",
       "  </tbody>\n",
       "</table>\n",
       "</div>"
      ],
      "text/plain": [
       "          player_name  height  weight  Age       date  ...  gk_handling  gk_kicking gk_positioning gk_reflexes  Year\n",
       "0  Aaron Appindangoye  182.88     187   30 2016-02-18  ...         11.0        10.0            8.0         8.0  2016\n",
       "\n",
       "[1 rows x 44 columns]"
      ]
     },
     "execution_count": 159,
     "metadata": {},
     "output_type": "execute_result"
    }
   ],
   "source": [
    "PlayerData.head(1)"
   ]
  },
  {
   "cell_type": "code",
   "execution_count": 160,
   "metadata": {},
   "outputs": [
    {
     "data": {
      "text/html": [
       "<div>\n",
       "<style scoped>\n",
       "    .dataframe tbody tr th:only-of-type {\n",
       "        vertical-align: middle;\n",
       "    }\n",
       "\n",
       "    .dataframe tbody tr th {\n",
       "        vertical-align: top;\n",
       "    }\n",
       "\n",
       "    .dataframe thead th {\n",
       "        text-align: right;\n",
       "    }\n",
       "</style>\n",
       "<table border=\"1\" class=\"dataframe\">\n",
       "  <thead>\n",
       "    <tr style=\"text-align: right;\">\n",
       "      <th></th>\n",
       "      <th>team_api_id</th>\n",
       "      <th>team_long_name</th>\n",
       "      <th>team_short_name</th>\n",
       "      <th>buildUpPlaySpeed</th>\n",
       "      <th>buildUpPlaySpeedClass</th>\n",
       "      <th>buildUpPlayDribblingClass</th>\n",
       "      <th>buildUpPlayPassing</th>\n",
       "      <th>buildUpPlayPassingClass</th>\n",
       "      <th>buildUpPlayPositioningClass</th>\n",
       "      <th>chanceCreationPassing</th>\n",
       "      <th>chanceCreationPassingClass</th>\n",
       "      <th>chanceCreationCrossing</th>\n",
       "      <th>chanceCreationCrossingClass</th>\n",
       "      <th>chanceCreationShooting</th>\n",
       "      <th>chanceCreationShootingClass</th>\n",
       "      <th>chanceCreationPositioningClass</th>\n",
       "      <th>defencePressure</th>\n",
       "      <th>defencePressureClass</th>\n",
       "      <th>defenceAggression</th>\n",
       "      <th>defenceAggressionClass</th>\n",
       "      <th>defenceTeamWidth</th>\n",
       "      <th>defenceTeamWidthClass</th>\n",
       "      <th>defenceDefenderLineClass</th>\n",
       "      <th>Year</th>\n",
       "    </tr>\n",
       "  </thead>\n",
       "  <tbody>\n",
       "    <tr>\n",
       "      <th>0</th>\n",
       "      <td>9987</td>\n",
       "      <td>KRC Genk</td>\n",
       "      <td>GEN</td>\n",
       "      <td>45</td>\n",
       "      <td>Balanced</td>\n",
       "      <td>Little</td>\n",
       "      <td>45</td>\n",
       "      <td>Mixed</td>\n",
       "      <td>Organised</td>\n",
       "      <td>50</td>\n",
       "      <td>Normal</td>\n",
       "      <td>35</td>\n",
       "      <td>Normal</td>\n",
       "      <td>60</td>\n",
       "      <td>Normal</td>\n",
       "      <td>Organised</td>\n",
       "      <td>70</td>\n",
       "      <td>High</td>\n",
       "      <td>65</td>\n",
       "      <td>Press</td>\n",
       "      <td>70</td>\n",
       "      <td>Wide</td>\n",
       "      <td>Cover</td>\n",
       "      <td>2010</td>\n",
       "    </tr>\n",
       "  </tbody>\n",
       "</table>\n",
       "</div>"
      ],
      "text/plain": [
       "   team_api_id team_long_name team_short_name  ...  defenceTeamWidthClass defenceDefenderLineClass  Year\n",
       "0         9987       KRC Genk             GEN  ...                   Wide                    Cover  2010\n",
       "\n",
       "[1 rows x 24 columns]"
      ]
     },
     "execution_count": 160,
     "metadata": {},
     "output_type": "execute_result"
    }
   ],
   "source": [
    "TeamData.head(1)"
   ]
  },
  {
   "cell_type": "code",
   "execution_count": 161,
   "metadata": {},
   "outputs": [
    {
     "data": {
      "text/html": [
       "<div>\n",
       "<style scoped>\n",
       "    .dataframe tbody tr th:only-of-type {\n",
       "        vertical-align: middle;\n",
       "    }\n",
       "\n",
       "    .dataframe tbody tr th {\n",
       "        vertical-align: top;\n",
       "    }\n",
       "\n",
       "    .dataframe thead th {\n",
       "        text-align: right;\n",
       "    }\n",
       "</style>\n",
       "<table border=\"1\" class=\"dataframe\">\n",
       "  <thead>\n",
       "    <tr style=\"text-align: right;\">\n",
       "      <th></th>\n",
       "      <th>season</th>\n",
       "      <th>stage</th>\n",
       "      <th>date</th>\n",
       "      <th>match_api_id</th>\n",
       "      <th>home_team_api_id</th>\n",
       "      <th>away_team_api_id</th>\n",
       "      <th>home_team_goal</th>\n",
       "      <th>away_team_goal</th>\n",
       "      <th>Year</th>\n",
       "      <th>league_name</th>\n",
       "      <th>country_name</th>\n",
       "      <th>Total_goals</th>\n",
       "    </tr>\n",
       "  </thead>\n",
       "  <tbody>\n",
       "    <tr>\n",
       "      <th>0</th>\n",
       "      <td>2008/2009</td>\n",
       "      <td>1</td>\n",
       "      <td>2008-08-17</td>\n",
       "      <td>492473</td>\n",
       "      <td>9987</td>\n",
       "      <td>9993</td>\n",
       "      <td>1</td>\n",
       "      <td>1</td>\n",
       "      <td>2008</td>\n",
       "      <td>Belgium Jupiler League</td>\n",
       "      <td>Belgium</td>\n",
       "      <td>2</td>\n",
       "    </tr>\n",
       "  </tbody>\n",
       "</table>\n",
       "</div>"
      ],
      "text/plain": [
       "      season  stage       date  match_api_id  ...  Year             league_name  country_name  Total_goals\n",
       "0  2008/2009      1 2008-08-17        492473  ...  2008  Belgium Jupiler League       Belgium            2\n",
       "\n",
       "[1 rows x 12 columns]"
      ]
     },
     "execution_count": 161,
     "metadata": {},
     "output_type": "execute_result"
    }
   ],
   "source": [
    "Match_League_Country.head(1)"
   ]
  },
  {
   "cell_type": "markdown",
   "metadata": {},
   "source": [
    "<a id='eda'></a>\n",
    "# **Exploratory Data Analysis**\n",
    "\n"
   ]
  },
  {
   "cell_type": "markdown",
   "metadata": {},
   "source": [
    "### 1) What are the best Leagues with maximum number of goals per year ?"
   ]
  },
  {
   "cell_type": "code",
   "execution_count": 162,
   "metadata": {},
   "outputs": [
    {
     "name": "stderr",
     "output_type": "stream",
     "text": [
      "No artists with labels found to put in legend.  Note that artists whose label start with an underscore are ignored when legend() is called with no argument.\n"
     ]
    },
    {
     "data": {
      "text/plain": [
       "<matplotlib.legend.Legend at 0x2638e01d8d0>"
      ]
     },
     "execution_count": 162,
     "metadata": {},
     "output_type": "execute_result"
    },
    {
     "data": {
      "image/png": "[encoded data removed]",
      "text/plain": [
       "<Figure size 864x864 with 1 Axes>"
      ]
     },
     "metadata": {
      "needs_background": "light"
     },
     "output_type": "display_data"
    }
   ],
   "source": [
    "leagus_total_goals = Match_League_Country.groupby(['Year', 'league_name']).sum()\n",
    "df = {}\n",
    "years = np.arange(2008, 2017)\n",
    "\n",
    "# making a dicitonary saves the most 2 leagues has goals in each ear.\n",
    "for i in range(len(years)):\n",
    "    df[years[i]] = leagus_total_goals.query(f'Year == {years[i]}')['Total_goals'].nlargest(2)\n",
    "\n",
    "\n",
    "\n",
    "fig, ax = plt.subplots(figsize=(12, 12))\n",
    "x = 0\n",
    "# plotting bars\n",
    "for year in years:\n",
    "    plt.bar(np.arange(0, 8, 4) + x ,df[year].values)\n",
    "    \n",
    "    # typing each maximum goal for each league\n",
    "    plt.text(0 + x, df[year].values[0] + 7 , df[year].values[0], ha='center', va='bottom' , fontsize=12,  color='r', rotation='10')\n",
    "    plt.text(4 + x, df[year].values[1] - 2  ,df[year].values[1], ha='center', va='bottom',fontsize=12, color='b', rotation='10')\n",
    "\n",
    "    # splitting betweeen the years\n",
    "    x += 10\n",
    "\n",
    "\n",
    "# getting the names of the leagues to use it in plt.xlabels of plt.set_xticks.\n",
    "names = []\n",
    "for i in range(len(years)):\n",
    "    names.append(df[years[i]].index[0][1])\n",
    "    names.append(df[years[i]].index[1][1])\n",
    "\n",
    "# typing on the x-axis\n",
    "ax.set_ylabel('No of goals', fontsize=17)\n",
    "ax.set_title('Leagues with maximum number of goals per year', fontsize=22)\n",
    "ax.set_xticks(np.arange(0, 180/2, 5) - 0.6  ,names, rotation=90,minor=False,ha='left', fontsize=15)\n",
    "\n",
    "ax.legend()\n",
    "plt.xlim(-5, 90)\n",
    "plt.ylim(-5, 1300)\n",
    "plt.legend(np.arange(2008, 2017), loc='center left', bbox_to_anchor=(1, 0.5), fontsize=13, prop={'size': 17})\n"
   ]
  },
  {
   "cell_type": "markdown",
   "metadata": {},
   "source": [
    "> ##### We note that the 3 most popular leagues in the list of the most scoring leagues are\n",
    "> 1. **Spain LIGA BBVA.**\n",
    "> 2. **England Premier League.**\n",
    "> 3. Italy Serie A.\n",
    "\n",
    "> ##### This explains why the Spanish and English leagues are the most watched in the world."
   ]
  },
  {
   "cell_type": "markdown",
   "metadata": {},
   "source": [
    "> ##### But to be fair, the number of matches varies from one league to another, so let's calculate the **average goals per match** in the leagues over the years:"
   ]
  },
  {
   "cell_type": "code",
   "execution_count": 166,
   "metadata": {},
   "outputs": [
    {
     "name": "stderr",
     "output_type": "stream",
     "text": [
      "No artists with labels found to put in legend.  Note that artists whose label start with an underscore are ignored when legend() is called with no argument.\n"
     ]
    },
    {
     "data": {
      "text/plain": [
       "<matplotlib.legend.Legend at 0x26395d6d7e0>"
      ]
     },
     "execution_count": 166,
     "metadata": {},
     "output_type": "execute_result"
    },
    {
     "data": {
      "image/png": "[encoded data removed]",
      "text/plain": [
       "<Figure size 864x864 with 1 Axes>"
      ]
     },
     "metadata": {
      "needs_background": "light"
     },
     "output_type": "display_data"
    }
   ],
   "source": [
    "leagus_avg_goals = Match_League_Country.groupby(['Year', 'league_name']).mean()\n",
    "df = {}\n",
    "years = np.arange(2008, 2017)\n",
    "\n",
    "# making a dicitonary saves the most 2 leagues has goals in each ear.\n",
    "for i in range(len(years)):\n",
    "    df[years[i]] = leagus_avg_goals.query(f'Year == {years[i]}')['Total_goals'].nlargest(2)\n",
    "\n",
    "\n",
    "\n",
    "fig, ax = plt.subplots(figsize=(12, 12))\n",
    "x = 0\n",
    "# plotting bars\n",
    "for year in years:\n",
    "    plt.bar(np.arange(0, 8, 4) + x ,df[year].values)\n",
    "    \n",
    "    # typing each maximum goal for each league\n",
    "    plt.text(0 + x, df[year].values[0] , round(df[year].values[0], 2), ha='center', va='bottom' , fontsize=12,  color='r', rotation='10')\n",
    "    plt.text(4 + x, df[year].values[1] , round(df[year].values[1], 2), ha='center', va='bottom',fontsize=12, color='b', rotation='10')\n",
    "\n",
    "    # splitting betweeen the years\n",
    "    x += 10\n",
    "\n",
    "\n",
    "# getting the names of the leagues to use it in plt.xlabels of plt.set_xticks.\n",
    "names = []\n",
    "for i in range(len(years)):\n",
    "    names.append(df[years[i]].index[0][1])\n",
    "    names.append(df[years[i]].index[1][1])\n",
    "\n",
    "# typing on the x-axis\n",
    "ax.set_ylabel('Avg goals / match', fontsize=17)\n",
    "ax.set_title('Leagues with max avg goals per match in each year', fontsize=22)\n",
    "ax.set_xticks(np.arange(0, 180/2, 5) - 0.6  ,names, rotation=90,minor=False,ha='left', fontsize=15)\n",
    "\n",
    "ax.legend()\n",
    "plt.xlim(-5, 90)\n",
    "plt.ylim(0, 4)\n",
    "plt.legend(np.arange(2008, 2017), loc='center left', bbox_to_anchor=(1, 0.5), fontsize=13, prop={'size': 13})\n"
   ]
  },
  {
   "cell_type": "markdown",
   "metadata": {},
   "source": [
    "> ##### As we expected, the number of matches varies from one league to another, and this shows that the leagues that have the highest average number of goals in each match are:\n",
    "> 1. **Netherlands Eredivisie.**\n",
    "> 2. **Switzerland Super League.**\n",
    "> 3. Germany 1. Bundesliga.\n",
    ">\n"
   ]
  },
  {
   "cell_type": "markdown",
   "metadata": {},
   "source": [
    "### 2) What are the best teams with the highest rate of winning matches?\n",
    "\n",
    "from the last idea we will take the mean not the max .. we will get the best teams that has\\\n",
    "highest rate of winning matches."
   ]
  },
  {
   "cell_type": "code",
   "execution_count": 167,
   "metadata": {},
   "outputs": [],
   "source": [
    "v = []\n",
    "\n",
    "temp = list(Match_League_Country.query('home_team_goal > away_team_goal')['home_team_api_id'])  # get winners in home matches.\n",
    "\n",
    "temp2 = list((Match_League_Country.query('home_team_goal < away_team_goal')['away_team_api_id']))      # get winners in away matches.\n",
    "\n",
    "for i in temp:\n",
    "    v.append(i)\n",
    "\n",
    "for i in temp2:\n",
    "    v.append(i)\n",
    "    \n",
    "# building a dictionary of thease teams ids and their count of wins:\n",
    "vectory = {}\n",
    "for team in v:\n",
    "    vectory[team] = vectory.get(team, 0) + 1\n",
    "\n",
    "# getting all teams ids from the dictionary of vectory.\n",
    "teams_id = list(list(vectory.keys()))\n",
    "\n",
    "# getting all number of wins for all winning teams.\n",
    "NoOfwins = list(list(vectory.values()))\n",
    "\n",
    "# getting the number of matches for each team.\n",
    "NoOfMatches = []\n",
    "for id in teams_id:\n",
    "    NoOfMatches.append(match.query(f'home_team_api_id == {id} or away_team_api_id == {id}').shape[0])\n",
    "        \n",
    "df = pd.DataFrame(list(zip(NoOfwins, NoOfMatches)),\n",
    "               columns =['wins', 'no_matches'], index=teams_id)  \n",
    "\n",
    "\n",
    "df['WPM'] = df.wins / df.no_matches # adding a column win per match [WPM]\n",
    "\n"
   ]
  },
  {
   "cell_type": "code",
   "execution_count": 168,
   "metadata": {},
   "outputs": [
    {
     "data": {
      "image/png": "[encoded data removed]",
      "text/plain": [
       "<Figure size 720x720 with 1 Axes>"
      ]
     },
     "metadata": {
      "needs_background": "light"
     },
     "output_type": "display_data"
    }
   ],
   "source": [
    "\n",
    "\n",
    "# Best teams with number of wins per match they played.\n",
    "Best_teams = df.WPM.nlargest(10)\n",
    "\n",
    "Best_10_Data = TeamData[TeamData['team_api_id'].isin(Best_teams.index)]       # a data frame with the data of all the 10 best teams.\n",
    "\n",
    "\n",
    "Best10_no_names = []\n",
    "Best10_no_wins = []\n",
    "for i in range(len(Best_teams)):\n",
    "    Best10_no_names.append(TeamData.query(f'team_api_id ==  {Best_teams.index[i]}')['team_long_name'].values[0])\n",
    "    Best10_no_wins.append(round(Best_teams.values[i], 3))\n",
    "\n",
    "ide = np.arange(0, len(Best10_no_names) * 5, 5)\n",
    "plt.rcParams[\"figure.figsize\"] = (10, 10)\n",
    "plt.bar(ide, Best10_no_wins, width=1)\n",
    "plt.xticks(ide, Best10_no_names, rotation=50, fontsize=12)\n",
    "plt.ylabel('Wins Per Match', fontsize=18)\n",
    "plt.title('Best 10 teams', fontsize=20)\n",
    "plt.xlim(-3, 48)\n",
    "plt.ylim(0, 0.9)\n",
    "\n",
    "for i in range(10):\n",
    "    plt.text(i*5, Best10_no_wins[i] + 0.01, Best10_no_wins[i] , ha='center', va='bottom', fontsize = 12 )\n",
    "\n"
   ]
  },
  {
   "cell_type": "markdown",
   "metadata": {},
   "source": [
    "### 3) What helps the best teams to win? In other words, what sets the best teams apart from the rest?"
   ]
  },
  {
   "cell_type": "code",
   "execution_count": 169,
   "metadata": {},
   "outputs": [
    {
     "data": {
      "text/plain": [
       "<matplotlib.legend.Legend at 0x26392864fa0>"
      ]
     },
     "execution_count": 169,
     "metadata": {},
     "output_type": "execute_result"
    },
    {
     "data": {
      "image/png": "[encoded data removed]",
      "text/plain": [
       "<Figure size 720x720 with 1 Axes>"
      ]
     },
     "metadata": {
      "needs_background": "light"
     },
     "output_type": "display_data"
    }
   ],
   "source": [
    "att = ['chanceCreationPassing', 'chanceCreationCrossing', 'chanceCreationShooting', 'defencePressure', 'defenceAggression', 'defenceTeamWidth']\n",
    "Best_teams_data = TeamData.query(f'team_api_id in {list(Best_teams.index)}')\n",
    "\n",
    "best_teams = Best_teams_data[att].mean()                                                 # Data of the best 10 teams \n",
    "all_teams = TeamData.query(f'team_api_id not in {list(Best_teams.index)}')[att].mean()   # Data of other teams\n",
    "\n",
    "\n",
    "ide = np.arange(0, 42, 7)\n",
    "plt.rcParams[\"figure.figsize\"] = (10,10)\n",
    "plt.bar(ide, best_teams, width=1.2)\n",
    "plt.bar(ide+1.2, all_teams, width=1.2)\n",
    "plt.xticks(ide, att, rotation=390, fontsize=12)\n",
    "plt.ylabel('Mean Value', fontsize=18)\n",
    "plt.title('(Best 10 teams VS Other teams) Advantages', fontsize=20)\n",
    "plt.legend(['Best 10 Teams', 'Other Teams'], loc='center left', bbox_to_anchor=(1, 0.5), fontsize=13, prop={'size': 13})\n"
   ]
  },
  {
   "cell_type": "markdown",
   "metadata": {},
   "source": [
    "> We notice that **best tams** give more attention than **other teams** to:\n",
    "> 1. Creation of passing.\n",
    "> 2. Creation of crossing.\n",
    "> 3. Shotting.\n",
    "> 4. Having a good defence in general.\n",
    "\n",
    "\n",
    "> So, we will take the defence as example and see how the focus on defence from the teams all over the years."
   ]
  },
  {
   "cell_type": "markdown",
   "metadata": {},
   "source": [
    "### 4) How teams' interest in defence has changed ?"
   ]
  },
  {
   "cell_type": "code",
   "execution_count": 170,
   "metadata": {},
   "outputs": [
    {
     "data": {
      "text/plain": [
       "2010    10\n",
       "2011    10\n",
       "2012    10\n",
       "2013    10\n",
       "2014    10\n",
       "2015    10\n",
       "Name: Year, dtype: int64"
      ]
     },
     "execution_count": 170,
     "metadata": {},
     "output_type": "execute_result"
    }
   ],
   "source": [
    "# checking for the years avilable in our dataset.\n",
    "Best_10_Data.Year.value_counts()"
   ]
  },
  {
   "cell_type": "markdown",
   "metadata": {},
   "source": [
    "Our analysis in this topic will not include 2008, 2009, 2016"
   ]
  },
  {
   "cell_type": "code",
   "execution_count": 171,
   "metadata": {},
   "outputs": [
    {
     "data": {
      "text/plain": [
       "<matplotlib.legend.Legend at 0x263fffa6cb0>"
      ]
     },
     "execution_count": 171,
     "metadata": {},
     "output_type": "execute_result"
    },
    {
     "data": {
      "image/png": "[encoded data removed]",
      "text/plain": [
       "<Figure size 576x576 with 1 Axes>"
      ]
     },
     "metadata": {
      "needs_background": "light"
     },
     "output_type": "display_data"
    }
   ],
   "source": [
    "Defence_data = Best_10_Data.groupby('Year').mean()[['defencePressure', 'defenceAggression', 'defenceTeamWidth']]\n",
    "Defence_data['total defence avg'] = (Defence_data['defencePressure'] + Defence_data['defenceAggression'] + Defence_data['defenceTeamWidth']) / 3\n",
    "Defence_data\n",
    "\n",
    "Defence_data.plot.bar(figsize=(8, 8), width=0.4)\n",
    "\n",
    "plt.ylabel(\"Defense Average\", fontsize=15)\n",
    "plt.xlabel(' ')\n",
    "plt.xticks(fontsize=18, rotation='360')\n",
    "plt.title('Level of defense of the best teams during years ', fontsize=16)\n",
    "plt.ylim(0, 70)\n",
    "plt.xlim(-.5, 5.5)\n",
    "for i in range(6):\n",
    "    plt.text(i + 0.3, Defence_data.iloc[i]['total defence avg']+.9 , round(Defence_data.iloc[i]['total defence avg'], 2) , ha='center', va='bottom', fontsize = 10 )\n",
    "    \n",
    "plt.legend(['defencePressure', 'defenceAggression', 'defenceTeamWidth', 'total defence avg'], loc='center left', bbox_to_anchor=(1, 0.5), fontsize=13, prop={'size': 13})\n",
    "\n"
   ]
  },
  {
   "cell_type": "markdown",
   "metadata": {},
   "source": [
    "During 2010, the interest of the top 10 teams in improving the defense line was\\\n",
    "the lowest with an average of 48.83, then this interest began to increase until it reached its peak in 2014 with 56.67."
   ]
  },
  {
   "cell_type": "markdown",
   "metadata": {},
   "source": [
    "> ### Now after we covered the questions of leagues and teams let's give attention to the players."
   ]
  },
  {
   "cell_type": "markdown",
   "metadata": {},
   "source": [
    "### 5) Who are the best players of each year?"
   ]
  },
  {
   "cell_type": "code",
   "execution_count": 172,
   "metadata": {},
   "outputs": [
    {
     "data": {
      "text/plain": [
       "Text(0.5, 1.0, 'Best players in each year')"
      ]
     },
     "execution_count": 172,
     "metadata": {},
     "output_type": "execute_result"
    },
    {
     "data": {
      "image/png": "[encoded data removed]",
      "text/plain": [
       "<Figure size 936x720 with 1 Axes>"
      ]
     },
     "metadata": {
      "needs_background": "light"
     },
     "output_type": "display_data"
    }
   ],
   "source": [
    "Hello = PlayerData.groupby('Year')['overall_rating'].max()\n",
    "df = []\n",
    "\n",
    "for i in range(len(Hello)):\n",
    "    df.append(PlayerData.query(f'Year == {Hello.index[i]} and overall_rating == {Hello.values[i]}'))\n",
    "\n",
    "plt.rcParams[\"figure.figsize\"] = (13,10)\n",
    "\n",
    "plt.bar([3], df[0].overall_rating, width=0.5)\n",
    "plt.bar([7.5], df[1].overall_rating, width=0.5)\n",
    "plt.bar([12], df[2].overall_rating, width=0.5)\n",
    "plt.bar([16.5], df[4].overall_rating, width=0.5)\n",
    "plt.bar([21], df[9].overall_rating, width=0.5)\n",
    "\n",
    "\n",
    "\n",
    "plt.text(3 , df[0].overall_rating.iloc[0] + 0.5, '(' + str(int(df[0].overall_rating.iloc[0]))+ ' , ' + df[0].player_name.iloc[0] + ',' + '\\n' + df[0].player_name.iloc[1] + ')' , ha='center', va='bottom', fontsize = 12, rotation='-15')\n",
    "plt.text(8, df[1].overall_rating.iloc[0] + 0.5, '(' + str(int(df[1].overall_rating.iloc[0]))+ ' , ' + df[1].player_name.iloc[0] + ',' +'\\n' + df[1].player_name.iloc[1] + ')', ha='center', va='bottom', fontsize = 12, rotation='-15' )\n",
    "plt.text(12.5 , df[2].overall_rating.iloc[0] + 0.5, '(' + str(int(df[2].overall_rating.iloc[0]))+ ' , ' + df[2].player_name.iloc[0] + ')', ha='center', va='bottom', fontsize = 12, rotation='-15' )\n",
    "\n",
    "plt.text(16.5, df[4].overall_rating.iloc[0] + 0.5, '(' + \n",
    "           str(int(df[3].overall_rating.iloc[0])) + ',' + str(int(df[4].overall_rating.iloc[0])) + ',' +\n",
    "           str(int(df[5].overall_rating.iloc[0])) + ',' + str(int(df[6].overall_rating.iloc[0])) +',' +\n",
    "           str(int(df[7].overall_rating.iloc[0])) +',' + str(int(df[8].overall_rating.iloc[0])) +'\\n' +\n",
    "           df[4].player_name.iloc[0] + ')', ha='center', va='bottom', fontsize = 12, rotation='-15' )\n",
    "\n",
    "plt.text(21, df[9].overall_rating.iloc[0] + 0.5, '(' + str(int(df[9].overall_rating.iloc[0]))+ ' , ' + df[9].player_name.iloc[0] + ',' + '\\n' + df[9].player_name.iloc[3] + ')', ha='center', va='bottom', fontsize = 12, rotation='-15' )\n",
    "\n",
    "plt.xlim(0, 25)\n",
    "plt.ylim(0, 110)\n",
    "plt.xticks([3, 7.5, 12, 16.5, 21], ['2007', '2008', '2009', '2010 : 2015', '2016'], rotation=390, fontsize=12)\n",
    "plt.ylabel('Overal Rating', fontsize=18)\n",
    "plt.title('Best players in each year', fontsize=20)\n"
   ]
  },
  {
   "cell_type": "markdown",
   "metadata": {},
   "source": [
    "We have noticed that Lionel Messi is the most superior player in the rankings over the years .. as he has the maximum \\\n",
    "rank in 2010 - 2011 - 2012 - 2013 - 2014 - 2015"
   ]
  },
  {
   "cell_type": "markdown",
   "metadata": {},
   "source": [
    "> ### Now let's try to know what make these players be the best players in the Europe !"
   ]
  },
  {
   "cell_type": "markdown",
   "metadata": {},
   "source": [
    "### 6) What features affects the overall rating of the players?"
   ]
  },
  {
   "cell_type": "markdown",
   "metadata": {},
   "source": [
    "We will try to find out which features are relevant to the overall rating."
   ]
  },
  {
   "cell_type": "code",
   "execution_count": null,
   "metadata": {},
   "outputs": [],
   "source": [
    "columns = PlayerData.columns\n",
    "\n",
    "\n",
    "for column  in columns:\n",
    "    if column in ['player_name', 'date', 'Year', 'overall_rating']:\n",
    "        continue\n",
    "    PlayerData.plot.scatter(x=column, y='overall_rating',s = 0.5,  figsize=(8, 5), title = f'Relationship between overal rating & {column} ')\n"
   ]
  },
  {
   "cell_type": "markdown",
   "metadata": {},
   "source": [
    "<a id='conclusions'></a>\n",
    "## Conclusions\n",
    "\n",
    "> 1. The number of matches varies from one league to another, but I dealt with it using the mean in my analysis.\n",
    ">\n",
    "> 2. The greatest 3 leagues with the most number of goals per year were\n",
    "> * **Spain LIGA BBVA**\n",
    "> * **England Premier League**\n",
    "> * **Italy Serie A.**\n",
    ">\n",
    ">\n",
    "> 3. As i mentioned in point 1, the number of matches differs from league to another so we get the\\\n",
    "Leagues with maximum average goals per game and they are: \n",
    "> * **Netherlands Eredivisie**\n",
    "> * **Switzerland Super League**\n",
    "> * **Germany 1. Bundesliga.**\n",
    ">\n",
    ">\n",
    "> 4. The best teams which have a great avg goals per match ara:\n",
    "> \n",
    "> * **FC Barcelona**\n",
    "> * **Real Madrid CF**\n",
    "> * **SL Benfica**\n",
    "> * **FC Porto**\n",
    "> * **Celtic**\n",
    "> * **Rangers**\n",
    "> * **FC Bayern Munich**\n",
    "> * **Ajax','PSV','RSC Anderlecht'**\n",
    "> 5. The common features of these teams are\n",
    "> * **Good creation of passing**\n",
    "> * **Good creation of crossing**\n",
    "> * **Good shooting**\n",
    "> * **Having a good defence in general.**\n",
    ">\n",
    ">\n",
    "> 5. From the fifth point, we benefit from an advantage that helps teams win matches, which is a **good defense in general.** \\\n",
    "From the quote: **The best way to attack is to defend**, and analysis has proven that. As the top 10 winning teams care more about defense than other teams.\n",
    "and this attention increased over the years that reach peek in 2014.\n",
    ">\n",
    ">\n",
    "> 6. The age curve of players is a normal distribution curve, and, the average age of the players is 35 years.\n",
    ">\n",
    "> 7. Lionel Messi dominated the list of the best player in Europe for five consecutive years from 2010 to 2015.\n",
    ">\n",
    "> 8. Goalkeepers with the highest rating over the years are \n",
    "> * **Gianluigi Buffon**\n",
    "> * **Manuel Neuer**\n",
    "> * **Iker Casillas**\n",
    "> 9. The best players have common features, the most important of which are:\n",
    "> * **potential**\n",
    "> * **reactions**\n",
    "> * **short_passing**\n",
    "> * **ball_control**\n",
    "> * **vision**\n",
    "> * **shot_power** \n",
    "\n",
    "\n",
    "\n"
   ]
  }
 ],
 "metadata": {
  "kernelspec": {
   "display_name": "Python 3 (ipykernel)",
   "language": "python",
   "name": "python3"
  },
  "language_info": {
   "codemirror_mode": {
    "name": "ipython",
    "version": 3
   },
   "file_extension": ".py",
   "mimetype": "text/x-python",
   "name": "python",
   "nbconvert_exporter": "python",
   "pygments_lexer": "ipython3",
   "version": "3.10.0"
  }
 },
 "nbformat": 4,
 "nbformat_minor": 2
}
