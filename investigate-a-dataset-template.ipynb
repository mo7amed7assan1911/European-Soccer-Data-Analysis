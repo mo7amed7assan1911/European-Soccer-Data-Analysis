{
 "cells": [
  {
   "cell_type": "markdown",
   "metadata": {},
   "source": [
    "# **Project: European Soccer Data Analysis in seasons 2008 : 2016**\n",
    "\n",
    "# **Table of Contents**\n",
    "<ul>\n",
    "<li><a href=\"#intro\">Introduction</a></li>\n",
    "<li><a href=\"#wrangling\">Data Wrangling</a></li>\n",
    "<li><a href=\"#eda\">Exploratory Data Analysis</a></li>\n",
    "<li><a href=\"#conclusions\">Conclusions</a></li>\n",
    "</ul>"
   ]
  },
  {
   "cell_type": "markdown",
   "metadata": {},
   "source": [
    "<a id='intro'></a>\n",
    "# **Introduction**\n",
    "\n",
    "> In this project i gathered data from **[kaggle](https://www.kaggle.com/hugomathien/soccer)** and it is mysql data file that has:\n",
    ">\n",
    "> +25,000 matches.\\\n",
    "> +10,000 players.\\\n",
    "> 11 European Countries with their lead championship.\\\n",
    "> Seasons 2008 to 2016.\\\n",
    "> Players and Teams' attributes* sourced from EA Sports' FIFA video game series, including the weekly updates.\n",
    ">\n",
    ">\n",
    "> And in this project, I will focus on years [2010 - 2012 - 2015] as they are the most years that have data in the dataset.\\\n",
    ">So, we will discover this data to help us answer some curious questions. personally, I am interested in discovering them.\n",
    ">\n",
    ">\n",
    "\n",
    "> ##### **Questions I will focus on in this analysis:**\n",
    ">1. What is the league with the most goals all over the 3 years we focus on?\n",
    ">2. During these three years, how has the level of defense of the teams changed?\n",
    ">3. During these three years, how has the team's attack level changed?\n",
    ">4. \n",
    "\n",
    "\n",
    "\n",
    "\n",
    "\n"
   ]
  },
  {
   "cell_type": "code",
   "execution_count": null,
   "metadata": {
    "collapsed": true
   },
   "outputs": [],
   "source": [
    "# importing lybraries used in the project.\n",
    "import pandas as pd\n",
    "import numpy as np\n",
    "import matplotlib.pyplot as plt\n",
    "import sqlite3\n",
    "import seaborn as sns\n",
    "%matplotlib inline"
   ]
  },
  {
   "cell_type": "markdown",
   "metadata": {},
   "source": [
    "<a id='wrangling'></a>\n",
    "# **Data Wrangling**"
   ]
  },
  {
   "cell_type": "code",
   "execution_count": null,
   "metadata": {
    "collapsed": true
   },
   "outputs": [],
   "source": [
    "# Load your data and print out a few lines. Perform operations to inspect data\n",
    "#   types and look for instances of missing or possibly errant data.\n",
    "\n",
    "con = sqlite3.connect('database.sqlite')\n",
    "country = pd.read_sql_query('SELECT * FROM Country', con)\n",
    "league  = pd.read_sql_query('SELECT * FROM League', con)\n",
    "match   = pd.read_sql_query('SELECT * FROM Match', con)\n",
    "player  = pd.read_sql_query('SELECT * FROM Player', con)\n",
    "player_att = pd.read_sql_query('SELECT * FROM Player_Attributes', con)\n",
    "team = pd.read_sql_query('SELECT * FROM Team', con)\n",
    "team_att = pd.read_sql_query('SELECT * FROM Team_Attributes', con)\n"
   ]
  },
  {
   "cell_type": "code",
   "execution_count": null,
   "metadata": {},
   "outputs": [],
   "source": [
    "# to display all columns of the DataFrame.\n",
    "pd.set_option(\"display.max_columns\", None)"
   ]
  },
  {
   "cell_type": "markdown",
   "metadata": {},
   "source": [
    "## **Data Assessing** :"
   ]
  },
  {
   "cell_type": "markdown",
   "metadata": {},
   "source": [
    ">#### country dataset :"
   ]
  },
  {
   "cell_type": "code",
   "execution_count": null,
   "metadata": {},
   "outputs": [],
   "source": [
    "print(country.head(), '\\n\\n')\n",
    "\n",
    "print('null values: ', country.id.isnull().sum())\n",
    "print('duplicated data: ', country.id.duplicated().sum())"
   ]
  },
  {
   "cell_type": "code",
   "execution_count": null,
   "metadata": {},
   "outputs": [],
   "source": [
    "# view on the country table\n",
    "country.info()"
   ]
  },
  {
   "cell_type": "code",
   "execution_count": null,
   "metadata": {},
   "outputs": [],
   "source": [
    "# trying to know what are the unique values: \n",
    "if match.id.duplicated().sum() == 0: \n",
    "    print('[ id ] column is unique')\n",
    "else: \n",
    "    print('[ id ] column is NOT unique.')"
   ]
  },
  {
   "cell_type": "markdown",
   "metadata": {},
   "source": [
    "> #### league dataset :\n"
   ]
  },
  {
   "cell_type": "code",
   "execution_count": null,
   "metadata": {},
   "outputs": [],
   "source": [
    "# exploring league dataset.\n",
    "print(league.head(), '\\n\\n')\n",
    "\n",
    "print('null values: ', league.id.isnull().sum())\n",
    "print('duplicated data: ', league.id.duplicated().sum())"
   ]
  },
  {
   "cell_type": "code",
   "execution_count": null,
   "metadata": {},
   "outputs": [],
   "source": [
    "# view on league dataset.\n",
    "league.info()"
   ]
  },
  {
   "cell_type": "code",
   "execution_count": null,
   "metadata": {},
   "outputs": [],
   "source": [
    "# trying to know what are the unique values: \n",
    "if  league.id.duplicated().sum() == 0: \n",
    "    print('[ id ] column is unique')\n",
    "else: \n",
    "    print('[ id ] column is NOT unique.')"
   ]
  },
  {
   "cell_type": "markdown",
   "metadata": {},
   "source": [
    "> #### match dataset :\n",
    "    \n"
   ]
  },
  {
   "cell_type": "code",
   "execution_count": null,
   "metadata": {},
   "outputs": [],
   "source": [
    "# Notice we only showing here some columns as match data set has many columns.\n",
    "pd.set_option(\"display.max_columns\", 6)\n",
    "\n",
    "# exploring data of the matches to check if there is duplicates, nan values.\n",
    "print(match.head(), '\\n\\n')\n",
    "\n",
    "print('null values: ', match.isnull().sum())\n",
    "print('duplicated data: ', match.duplicated().sum())"
   ]
  },
  {
   "cell_type": "code",
   "execution_count": null,
   "metadata": {},
   "outputs": [],
   "source": [
    "match.columns"
   ]
  },
  {
   "cell_type": "code",
   "execution_count": null,
   "metadata": {},
   "outputs": [],
   "source": [
    "# trying to know what are the unique values: \n",
    "if match.match_api_id.duplicated().sum() == 0: \n",
    "    print('[ match_api_id ] column is unique')\n",
    "else: \n",
    "    print('[ match_api_id ] column is NOT unique.')"
   ]
  },
  {
   "cell_type": "markdown",
   "metadata": {},
   "source": [
    "> #### player dataset :"
   ]
  },
  {
   "cell_type": "code",
   "execution_count": null,
   "metadata": {},
   "outputs": [],
   "source": [
    "# Notice we only showing here some columns as match data set has many columns.\n",
    "pd.set_option(\"display.max_columns\", 5)\n",
    "\n",
    "# exploring match dataset.\n",
    "print(player.head(), '\\n\\n')\n",
    "\n",
    "print('null values: ', player.player_api_id.isnull().sum())\n",
    "print('duplicated data: ', player.player_api_id.duplicated().sum())"
   ]
  },
  {
   "cell_type": "code",
   "execution_count": null,
   "metadata": {},
   "outputs": [],
   "source": [
    "player.info()"
   ]
  },
  {
   "cell_type": "code",
   "execution_count": null,
   "metadata": {},
   "outputs": [],
   "source": [
    "# trying to know what are the unique values: \n",
    "if player.player_api_id.duplicated().sum() == 0: \n",
    "    print('[ player_api_id ] column is unique')\n",
    "else: \n",
    "    print('[ player_api_id ] column is NOT unique.')"
   ]
  },
  {
   "cell_type": "markdown",
   "metadata": {},
   "source": [
    "> #### player_attributes dataset : "
   ]
  },
  {
   "cell_type": "code",
   "execution_count": null,
   "metadata": {},
   "outputs": [],
   "source": [
    "# Notice we only showing here some columns as match data set has many columns.\n",
    "pd.set_option(\"display.max_columns\", 5)\n",
    "\n",
    "# exploring data of the matches to check if there is duplicates, nan values.\n",
    "print(player_att.head(), '\\n\\n')\n",
    "\n",
    "print('null values: ', player_att.isnull().sum().sum())\n",
    "print('duplicated data: ', player_att.duplicated().sum())    "
   ]
  },
  {
   "cell_type": "code",
   "execution_count": null,
   "metadata": {},
   "outputs": [],
   "source": [
    "player_att.info()"
   ]
  },
  {
   "cell_type": "markdown",
   "metadata": {},
   "source": [
    "> #### team dataset :"
   ]
  },
  {
   "cell_type": "code",
   "execution_count": null,
   "metadata": {},
   "outputs": [],
   "source": [
    "# Notice we only showing here some columns as match data set has many columns.\n",
    "pd.set_option(\"display.max_columns\", None)\n",
    "\n",
    "# exploring data of the matches to check if there is duplicates, nan values.\n",
    "print(team.head(), '\\n\\n')\n",
    "\n",
    "print('null values: ', team.isnull().sum().sum())\n",
    "print('duplicated data: ', team.duplicated().sum())    "
   ]
  },
  {
   "cell_type": "code",
   "execution_count": null,
   "metadata": {},
   "outputs": [],
   "source": [
    "team.info()"
   ]
  },
  {
   "cell_type": "markdown",
   "metadata": {},
   "source": [
    "> #### team_attributes dataset :"
   ]
  },
  {
   "cell_type": "code",
   "execution_count": null,
   "metadata": {},
   "outputs": [],
   "source": [
    "# Notice we only showing here some columns as match data set has many columns.\n",
    "pd.set_option(\"display.max_columns\", 0)\n",
    "\n",
    "# exploring data of the matches to check if there is duplicates, nan values.\n",
    "print(team_att.head(), '\\n\\n')\n",
    "\n",
    "print('null values: ', team_att.isnull().sum().sum())\n",
    "print('duplicated data: ', team_att.duplicated().sum())    "
   ]
  },
  {
   "cell_type": "code",
   "execution_count": null,
   "metadata": {},
   "outputs": [],
   "source": [
    "# trying to know what are the unique values: \n",
    "if team.team_api_id.duplicated().sum() == 0: \n",
    "    print('[ team_api_id ] column is unique')\n",
    "else: \n",
    "    print('[ team_api_id ] column is NOT unique.')"
   ]
  },
  {
   "cell_type": "markdown",
   "metadata": {},
   "source": [
    "## Conclusion Of Assessing"
   ]
  },
  {
   "cell_type": "markdown",
   "metadata": {},
   "source": [
    "##### Country dataset conclusion: \n",
    "> 11 rows, 2 columns.\\\n",
    "> No null values.  \n",
    "> No duplicated rows.\n",
    "\n",
    "> [ **id** ] column is unique ... we can use it in relations between tables.\n"
   ]
  },
  {
   "cell_type": "markdown",
   "metadata": {},
   "source": [
    "##### league dataset conclusion: \n",
    "> 11 rows, 3 columns.\\\n",
    "> No null values.  \n",
    "> No duplicated rows.\n",
    "\n",
    "\n",
    "> [ **id** ] column is unique."
   ]
  },
  {
   "cell_type": "markdown",
   "metadata": {},
   "source": []
  },
  {
   "cell_type": "markdown",
   "metadata": {},
   "source": [
    "##### match dataset conclusion: \n",
    "> 25979 rows, 115 columns.\\\n",
    "> null values => 407395. ---- but all of them in columns we will not use.\\\n",
    "> duplicated rows => 0\n",
    "\n",
    "\n",
    ">**Need to be cleaned**\n",
    "\n",
    "> **[match_api_id]** is unique.\n",
    "    \n"
   ]
  },
  {
   "cell_type": "markdown",
   "metadata": {},
   "source": [
    "##### player dataset conclusion: \n",
    "> 11060 rows, 7 columns.\\\n",
    "> null values => 0\\\n",
    "> duplicated rows => 0\n",
    "\n",
    "> **Need to change dtypes**\n",
    "\n",
    "> [ **player_api_id** ] is unique"
   ]
  },
  {
   "cell_type": "markdown",
   "metadata": {},
   "source": [
    "##### player_att dataset conclusion: \n",
    "> 183978 rows, 42 columns.\\\n",
    "> null values => 47301\\\n",
    "> duplicated rows => 0\n",
    "\n",
    "> **Need to be cleaned**\n",
    "\n",
    "> No need for unique values as each player has more than one statistics all over the years."
   ]
  },
  {
   "cell_type": "markdown",
   "metadata": {},
   "source": [
    "##### team dataset conclusion: \n",
    "> 299 rows, 5 columns.\\\n",
    "> null values => 11 ---- but all of them from one column 'team_fifa_api_id'. \n",
    ">\n",
    "> duplicated rows => 0\n",
    "\n",
    "\n",
    "> **Need to be cleaned**\n",
    "\n",
    "> [ **team_api_id** ] is unique"
   ]
  },
  {
   "cell_type": "markdown",
   "metadata": {},
   "source": [
    "##### team_att dataset conclusion: \n",
    "> 1458 rows, 25 columns.\\\n",
    "> null values => 969 --- from one column 'buildUpPlayDribbling' so i prefer to delete it.\n",
    ">\n",
    "> duplicated rows => 0\n",
    "\n",
    "\n",
    "> **Need to be cleaned**\n",
    "\n",
    "> No need for unique values as each team has more than one statistics all over the years.\n",
    "\n"
   ]
  },
  {
   "cell_type": "markdown",
   "metadata": {},
   "source": [
    "\n",
    "## **Data Cleaning**"
   ]
  },
  {
   "cell_type": "markdown",
   "metadata": {
    "collapsed": true
   },
   "source": [
    "#### Cleaning 'match' dataset :"
   ]
  },
  {
   "cell_type": "code",
   "execution_count": null,
   "metadata": {},
   "outputs": [],
   "source": [
    "match.info()"
   ]
  },
  {
   "cell_type": "code",
   "execution_count": null,
   "metadata": {},
   "outputs": [],
   "source": [
    "# get rid of columns that have null values and we will not use them: \n",
    "match = match.loc[:, :'away_team_goal']"
   ]
  },
  {
   "cell_type": "code",
   "execution_count": null,
   "metadata": {},
   "outputs": [],
   "source": [
    "# insuring that the data has no null now. \n",
    "print('number of null values now: ', match.isnull().sum().sum())"
   ]
  },
  {
   "cell_type": "code",
   "execution_count": null,
   "metadata": {},
   "outputs": [],
   "source": [
    "# checking all dtyeps are good or not.\n",
    "match.info()"
   ]
  },
  {
   "cell_type": "code",
   "execution_count": null,
   "metadata": {},
   "outputs": [],
   "source": [
    "# the country_id is the same for the league_id\n",
    "(match.country_id == match.league_id).all()"
   ]
  },
  {
   "cell_type": "code",
   "execution_count": null,
   "metadata": {},
   "outputs": [],
   "source": [
    "# so we will drop the country_id\n",
    "match.drop(columns=['country_id'], inplace=True)"
   ]
  },
  {
   "cell_type": "code",
   "execution_count": null,
   "metadata": {},
   "outputs": [],
   "source": [
    "# converting data in the 'date' column from object => datetime.\n",
    "match['date'] = pd.to_datetime(match['date'])"
   ]
  },
  {
   "cell_type": "code",
   "execution_count": null,
   "metadata": {},
   "outputs": [],
   "source": [
    "# making a new column named 'Year' to use it to group data by the year or the season.\n",
    "match['Year'] = pd.DatetimeIndex(match['date']).year"
   ]
  },
  {
   "cell_type": "code",
   "execution_count": null,
   "metadata": {},
   "outputs": [],
   "source": [
    "# chosing the most 3 years we have data for.\n",
    "match.Year.value_counts().plot(kind='bar', figsize=(8, 8))"
   ]
  },
  {
   "cell_type": "code",
   "execution_count": null,
   "metadata": {},
   "outputs": [],
   "source": [
    "# Notice the data should be consistant with all dataframe, if we check the data in [team_att] dataframe\n",
    "# we will found that there is no data for 2009 teams ... so we will not use 2009 and we use 2010 istead of it\n",
    "\n",
    "# So our analysis will be only on 2010 - 2012 - 2015.\n",
    "match = match.query('Year in [2010, 2012, 2015]')"
   ]
  },
  {
   "cell_type": "code",
   "execution_count": null,
   "metadata": {},
   "outputs": [],
   "source": [
    "match.head(2)"
   ]
  },
  {
   "cell_type": "markdown",
   "metadata": {
    "collapsed": true
   },
   "source": [
    "#### Cleaning 'player' dataset :"
   ]
  },
  {
   "cell_type": "code",
   "execution_count": null,
   "metadata": {},
   "outputs": [],
   "source": [
    "player.info()"
   ]
  },
  {
   "cell_type": "code",
   "execution_count": null,
   "metadata": {},
   "outputs": [],
   "source": [
    "# we need to change data type of birthday column form object to date time.\n",
    "player['birthday'] = pd.to_datetime(player['birthday'])\n",
    "player.info()"
   ]
  },
  {
   "cell_type": "markdown",
   "metadata": {},
   "source": [
    "##### Distribution of ages og the players:"
   ]
  },
  {
   "cell_type": "code",
   "execution_count": null,
   "metadata": {},
   "outputs": [],
   "source": [
    "# adding a new column named 'Age' to show the distribution of the ages.\n",
    "player['Age'] = pd.datetime.now().year - pd.DatetimeIndex(player['birthday']).year\n",
    "player.head()\n"
   ]
  },
  {
   "cell_type": "code",
   "execution_count": null,
   "metadata": {},
   "outputs": [],
   "source": [
    "ide = sorted(player.Year_of_birth.value_counts().index)\n",
    "player.Year_of_birth.value_counts()[ide].plot(kind='bar', figsize=(8, 8))"
   ]
  },
  {
   "cell_type": "markdown",
   "metadata": {
    "collapsed": true
   },
   "source": [
    "#### Cleaning 'player_att' dataset :"
   ]
  },
  {
   "cell_type": "code",
   "execution_count": null,
   "metadata": {},
   "outputs": [],
   "source": [
    "player_att.info()"
   ]
  },
  {
   "cell_type": "code",
   "execution_count": null,
   "metadata": {},
   "outputs": [],
   "source": [
    "# we will drop all players who has null values in their attributes.\n",
    "player_att.dropna(inplace=True)"
   ]
  },
  {
   "cell_type": "code",
   "execution_count": null,
   "metadata": {},
   "outputs": [],
   "source": [
    "# check if there is null values: \n",
    "print('number of null values now: ', player_att.isnull().any().sum());"
   ]
  },
  {
   "cell_type": "code",
   "execution_count": null,
   "metadata": {},
   "outputs": [],
   "source": [
    "# we need to change data type of [date] column form object to date time.\n",
    "player_att['date'] = pd.to_datetime(player_att['date'])\n",
    "\n",
    "# and making a column [Year] of data.\n",
    "player_att['Year'] = pd.DatetimeIndex(player_att['date']).year\n",
    "player_att.info()"
   ]
  },
  {
   "cell_type": "code",
   "execution_count": null,
   "metadata": {},
   "outputs": [],
   "source": [
    "# filtering the data with players of 2010 - 2012 - 2015\n",
    "player_att = player_att.query('Year in [2010, 2012, 2015]')"
   ]
  },
  {
   "cell_type": "markdown",
   "metadata": {},
   "source": [
    "#### Cleaning 'team' dataset :"
   ]
  },
  {
   "cell_type": "code",
   "execution_count": null,
   "metadata": {},
   "outputs": [],
   "source": [
    "team.info()"
   ]
  },
  {
   "cell_type": "code",
   "execution_count": null,
   "metadata": {},
   "outputs": [],
   "source": [
    "# droping all rows that contain null values (11 value)\n",
    "team.dropna(inplace=True)"
   ]
  },
  {
   "cell_type": "code",
   "execution_count": null,
   "metadata": {},
   "outputs": [],
   "source": [
    "# check if there is null values: \n",
    "print('number of null values now: ', team.isnull().any().sum());"
   ]
  },
  {
   "cell_type": "markdown",
   "metadata": {},
   "source": [
    "#### Cleaning 'team_att' dataset :"
   ]
  },
  {
   "cell_type": "code",
   "execution_count": null,
   "metadata": {},
   "outputs": [],
   "source": [
    "team_att.info()"
   ]
  },
  {
   "cell_type": "code",
   "execution_count": null,
   "metadata": {},
   "outputs": [],
   "source": [
    "# i'd like to drop the column itself 'which contains all null values' as i wont use it.\n",
    "team_att.drop(columns = 'buildUpPlayDribbling', inplace=True)"
   ]
  },
  {
   "cell_type": "code",
   "execution_count": null,
   "metadata": {},
   "outputs": [],
   "source": [
    "# cheacking for other null values:\n",
    "print('Number of null values now: ', team_att.isnull().sum().sum())"
   ]
  },
  {
   "cell_type": "code",
   "execution_count": null,
   "metadata": {},
   "outputs": [],
   "source": [
    "team_att.info()"
   ]
  },
  {
   "cell_type": "code",
   "execution_count": null,
   "metadata": {},
   "outputs": [],
   "source": [
    "# changing the dtype of the column [date] from object to date time.\n",
    "# and making a column with the name 'Year'.\n",
    "\n",
    "team_att['date'] = pd.to_datetime(team_att['date'])\n",
    "team_att['Year'] = pd.DatetimeIndex(team_att['date']).year\n",
    "team_att.head()"
   ]
  },
  {
   "cell_type": "code",
   "execution_count": null,
   "metadata": {},
   "outputs": [],
   "source": [
    "# filtering by the year to select data only of 2010 - 2012 - 2015\n",
    "team_att = team_att.query('Year in [2010, 2012, 2015]')"
   ]
  },
  {
   "cell_type": "markdown",
   "metadata": {},
   "source": [
    "#### Merging 'player' with 'player_att' datasets, to put the players info with his statistics in one dataset 'PlayerData'."
   ]
  },
  {
   "cell_type": "code",
   "execution_count": null,
   "metadata": {},
   "outputs": [],
   "source": [
    "print('Columns of [player] are:', '\\n' , list(player.columns), '\\n');\n",
    "print('Columns of [player_att] are:', '\\n' , list(player_att.columns), '\\n');"
   ]
  },
  {
   "cell_type": "code",
   "execution_count": null,
   "metadata": {},
   "outputs": [],
   "source": [
    "PlayerData = pd.merge(left=player, right=player_att, on=['player_api_id'])\n",
    "PlayerData.head()"
   ]
  },
  {
   "cell_type": "code",
   "execution_count": null,
   "metadata": {},
   "outputs": [],
   "source": [
    "# droping not important columns in the new DataFrame.\n",
    "# driping the player and player_att dataframes, as there is no need for them now.\n",
    "# del player\n",
    "# del player_att\n",
    "try:\n",
    "    PlayerData.drop(columns=['id_x', 'id_y', 'player_api_id', 'player_fifa_api_id_x', 'player_fifa_api_id_y', 'birthday'], inplace=True)\n",
    "except:\n",
    "    print('already these columns were dropped!')\n",
    "    "
   ]
  },
  {
   "cell_type": "markdown",
   "metadata": {},
   "source": [
    "#### Merging 'team' with 'team_att' datasets, to put the players info with his statistics in one dataset 'TeamData'."
   ]
  },
  {
   "cell_type": "code",
   "execution_count": null,
   "metadata": {},
   "outputs": [],
   "source": [
    "print('Columns of [team] are:', '\\n' , list(team.columns), '\\n');\n",
    "print('Columns of [team_att] are:', '\\n' , list(team_att.columns), '\\n');"
   ]
  },
  {
   "cell_type": "code",
   "execution_count": null,
   "metadata": {},
   "outputs": [],
   "source": [
    "TeamData = pd.merge(left=team, right=team_att, on=['team_api_id'])\n",
    "TeamData.head()"
   ]
  },
  {
   "cell_type": "code",
   "execution_count": null,
   "metadata": {},
   "outputs": [],
   "source": [
    "# droping not important columns in the new DataFrame.\n",
    "try:\n",
    "    TeamData.drop(columns=['id_x', 'date', 'id_y', 'team_fifa_api_id_x', 'team_fifa_api_id_y'], inplace=True)\n",
    "except:\n",
    "    print('already these columns were dropped!')"
   ]
  },
  {
   "cell_type": "code",
   "execution_count": null,
   "metadata": {},
   "outputs": [],
   "source": [
    "TeamData.head()"
   ]
  },
  {
   "cell_type": "markdown",
   "metadata": {},
   "source": [
    "#### Merging 'leauge' with 'country' datasets, to put the players info with his statistics in one dataset 'LeagueCoun'."
   ]
  },
  {
   "cell_type": "code",
   "execution_count": null,
   "metadata": {},
   "outputs": [],
   "source": [
    "print('Columns of [league] are:', '\\n' , list(league.columns), '\\n');\n",
    "print('Columns of [country] are:', '\\n' , list(country.columns), '\\n');"
   ]
  },
  {
   "cell_type": "code",
   "execution_count": 278,
   "metadata": {},
   "outputs": [
    {
     "data": {
      "text/html": [
       "<div>\n",
       "<style scoped>\n",
       "    .dataframe tbody tr th:only-of-type {\n",
       "        vertical-align: middle;\n",
       "    }\n",
       "\n",
       "    .dataframe tbody tr th {\n",
       "        vertical-align: top;\n",
       "    }\n",
       "\n",
       "    .dataframe thead th {\n",
       "        text-align: right;\n",
       "    }\n",
       "</style>\n",
       "<table border=\"1\" class=\"dataframe\">\n",
       "  <thead>\n",
       "    <tr style=\"text-align: right;\">\n",
       "      <th></th>\n",
       "      <th>id_x</th>\n",
       "      <th>country_id</th>\n",
       "      <th>name_x</th>\n",
       "      <th>id_y</th>\n",
       "      <th>name_y</th>\n",
       "    </tr>\n",
       "  </thead>\n",
       "  <tbody>\n",
       "    <tr>\n",
       "      <th>0</th>\n",
       "      <td>1</td>\n",
       "      <td>1</td>\n",
       "      <td>Belgium Jupiler League</td>\n",
       "      <td>1</td>\n",
       "      <td>Belgium</td>\n",
       "    </tr>\n",
       "    <tr>\n",
       "      <th>1</th>\n",
       "      <td>1729</td>\n",
       "      <td>1729</td>\n",
       "      <td>England Premier League</td>\n",
       "      <td>1729</td>\n",
       "      <td>England</td>\n",
       "    </tr>\n",
       "    <tr>\n",
       "      <th>2</th>\n",
       "      <td>4769</td>\n",
       "      <td>4769</td>\n",
       "      <td>France Ligue 1</td>\n",
       "      <td>4769</td>\n",
       "      <td>France</td>\n",
       "    </tr>\n",
       "    <tr>\n",
       "      <th>3</th>\n",
       "      <td>7809</td>\n",
       "      <td>7809</td>\n",
       "      <td>Germany 1. Bundesliga</td>\n",
       "      <td>7809</td>\n",
       "      <td>Germany</td>\n",
       "    </tr>\n",
       "    <tr>\n",
       "      <th>4</th>\n",
       "      <td>10257</td>\n",
       "      <td>10257</td>\n",
       "      <td>Italy Serie A</td>\n",
       "      <td>10257</td>\n",
       "      <td>Italy</td>\n",
       "    </tr>\n",
       "  </tbody>\n",
       "</table>\n",
       "</div>"
      ],
      "text/plain": [
       "    id_x  country_id                  name_x   id_y   name_y\n",
       "0      1           1  Belgium Jupiler League      1  Belgium\n",
       "1   1729        1729  England Premier League   1729  England\n",
       "2   4769        4769          France Ligue 1   4769   France\n",
       "3   7809        7809   Germany 1. Bundesliga   7809  Germany\n",
       "4  10257       10257           Italy Serie A  10257    Italy"
      ]
     },
     "execution_count": 278,
     "metadata": {},
     "output_type": "execute_result"
    }
   ],
   "source": [
    "LeagueCoun = pd.merge(left=league, right=country, left_on='country_id', right_on='id')\n",
    "LeagueCoun.head()"
   ]
  },
  {
   "cell_type": "code",
   "execution_count": 279,
   "metadata": {},
   "outputs": [],
   "source": [
    "# droping not important columns in the new DataFrame.\n",
    "# we notice that all country_ids is the same for their league_ids \n",
    "try:\n",
    "    LeagueCoun.drop(columns=['id_y', 'country_id'], inplace=True)\n",
    "except:\n",
    "    print('already these columns were dropped!')"
   ]
  },
  {
   "cell_type": "code",
   "execution_count": 280,
   "metadata": {},
   "outputs": [],
   "source": [
    "# renaming columns \n",
    "LeagueCoun.rename(columns={'id_x': 'league_id', 'name_x': 'league_name', 'name_y': 'country_name'}, inplace=True)"
   ]
  },
  {
   "cell_type": "code",
   "execution_count": 281,
   "metadata": {},
   "outputs": [
    {
     "data": {
      "text/html": [
       "<div>\n",
       "<style scoped>\n",
       "    .dataframe tbody tr th:only-of-type {\n",
       "        vertical-align: middle;\n",
       "    }\n",
       "\n",
       "    .dataframe tbody tr th {\n",
       "        vertical-align: top;\n",
       "    }\n",
       "\n",
       "    .dataframe thead th {\n",
       "        text-align: right;\n",
       "    }\n",
       "</style>\n",
       "<table border=\"1\" class=\"dataframe\">\n",
       "  <thead>\n",
       "    <tr style=\"text-align: right;\">\n",
       "      <th></th>\n",
       "      <th>league_id</th>\n",
       "      <th>league_name</th>\n",
       "      <th>country_name</th>\n",
       "    </tr>\n",
       "  </thead>\n",
       "  <tbody>\n",
       "    <tr>\n",
       "      <th>0</th>\n",
       "      <td>1</td>\n",
       "      <td>Belgium Jupiler League</td>\n",
       "      <td>Belgium</td>\n",
       "    </tr>\n",
       "    <tr>\n",
       "      <th>1</th>\n",
       "      <td>1729</td>\n",
       "      <td>England Premier League</td>\n",
       "      <td>England</td>\n",
       "    </tr>\n",
       "    <tr>\n",
       "      <th>2</th>\n",
       "      <td>4769</td>\n",
       "      <td>France Ligue 1</td>\n",
       "      <td>France</td>\n",
       "    </tr>\n",
       "    <tr>\n",
       "      <th>3</th>\n",
       "      <td>7809</td>\n",
       "      <td>Germany 1. Bundesliga</td>\n",
       "      <td>Germany</td>\n",
       "    </tr>\n",
       "    <tr>\n",
       "      <th>4</th>\n",
       "      <td>10257</td>\n",
       "      <td>Italy Serie A</td>\n",
       "      <td>Italy</td>\n",
       "    </tr>\n",
       "    <tr>\n",
       "      <th>5</th>\n",
       "      <td>13274</td>\n",
       "      <td>Netherlands Eredivisie</td>\n",
       "      <td>Netherlands</td>\n",
       "    </tr>\n",
       "    <tr>\n",
       "      <th>6</th>\n",
       "      <td>15722</td>\n",
       "      <td>Poland Ekstraklasa</td>\n",
       "      <td>Poland</td>\n",
       "    </tr>\n",
       "    <tr>\n",
       "      <th>7</th>\n",
       "      <td>17642</td>\n",
       "      <td>Portugal Liga ZON Sagres</td>\n",
       "      <td>Portugal</td>\n",
       "    </tr>\n",
       "    <tr>\n",
       "      <th>8</th>\n",
       "      <td>19694</td>\n",
       "      <td>Scotland Premier League</td>\n",
       "      <td>Scotland</td>\n",
       "    </tr>\n",
       "    <tr>\n",
       "      <th>9</th>\n",
       "      <td>21518</td>\n",
       "      <td>Spain LIGA BBVA</td>\n",
       "      <td>Spain</td>\n",
       "    </tr>\n",
       "    <tr>\n",
       "      <th>10</th>\n",
       "      <td>24558</td>\n",
       "      <td>Switzerland Super League</td>\n",
       "      <td>Switzerland</td>\n",
       "    </tr>\n",
       "  </tbody>\n",
       "</table>\n",
       "</div>"
      ],
      "text/plain": [
       "    league_id               league_name country_name\n",
       "0           1    Belgium Jupiler League      Belgium\n",
       "1        1729    England Premier League      England\n",
       "2        4769            France Ligue 1       France\n",
       "3        7809     Germany 1. Bundesliga      Germany\n",
       "4       10257             Italy Serie A        Italy\n",
       "5       13274    Netherlands Eredivisie  Netherlands\n",
       "6       15722        Poland Ekstraklasa       Poland\n",
       "7       17642  Portugal Liga ZON Sagres     Portugal\n",
       "8       19694   Scotland Premier League     Scotland\n",
       "9       21518           Spain LIGA BBVA        Spain\n",
       "10      24558  Switzerland Super League  Switzerland"
      ]
     },
     "execution_count": 281,
     "metadata": {},
     "output_type": "execute_result"
    }
   ],
   "source": [
    "LeagueCoun"
   ]
  },
  {
   "cell_type": "markdown",
   "metadata": {},
   "source": [
    "#### Merging 'LeagueCount' with 'match' datasets, to put the players info with his statistics in one dataset 'Match_League_Country'."
   ]
  },
  {
   "cell_type": "code",
   "execution_count": 282,
   "metadata": {},
   "outputs": [
    {
     "name": "stdout",
     "output_type": "stream",
     "text": [
      "Columns of [LeagueCoun] are: \n",
      " ['league_id', 'league_name', 'country_name'] \n",
      "\n",
      "Columns of [match] are: \n",
      " ['id', 'league_id', 'season', 'stage', 'date', 'match_api_id', 'home_team_api_id', 'away_team_api_id', 'home_team_goal', 'away_team_goal', 'Year'] \n",
      "\n"
     ]
    }
   ],
   "source": [
    "print('Columns of [LeagueCoun] are:', '\\n' , list(LeagueCoun.columns), '\\n');\n",
    "print('Columns of [match] are:', '\\n' , list(match.columns), '\\n');"
   ]
  },
  {
   "cell_type": "code",
   "execution_count": 283,
   "metadata": {},
   "outputs": [
    {
     "data": {
      "text/html": [
       "<div>\n",
       "<style scoped>\n",
       "    .dataframe tbody tr th:only-of-type {\n",
       "        vertical-align: middle;\n",
       "    }\n",
       "\n",
       "    .dataframe tbody tr th {\n",
       "        vertical-align: top;\n",
       "    }\n",
       "\n",
       "    .dataframe thead th {\n",
       "        text-align: right;\n",
       "    }\n",
       "</style>\n",
       "<table border=\"1\" class=\"dataframe\">\n",
       "  <thead>\n",
       "    <tr style=\"text-align: right;\">\n",
       "      <th></th>\n",
       "      <th>id</th>\n",
       "      <th>league_id</th>\n",
       "      <th>season</th>\n",
       "      <th>stage</th>\n",
       "      <th>date</th>\n",
       "      <th>match_api_id</th>\n",
       "      <th>home_team_api_id</th>\n",
       "      <th>away_team_api_id</th>\n",
       "      <th>home_team_goal</th>\n",
       "      <th>away_team_goal</th>\n",
       "      <th>Year</th>\n",
       "      <th>league_name</th>\n",
       "      <th>country_name</th>\n",
       "    </tr>\n",
       "  </thead>\n",
       "  <tbody>\n",
       "    <tr>\n",
       "      <th>0</th>\n",
       "      <td>377</td>\n",
       "      <td>1</td>\n",
       "      <td>2009/2010</td>\n",
       "      <td>19</td>\n",
       "      <td>2010-02-03</td>\n",
       "      <td>665626</td>\n",
       "      <td>8635</td>\n",
       "      <td>8342</td>\n",
       "      <td>3</td>\n",
       "      <td>2</td>\n",
       "      <td>2010</td>\n",
       "      <td>Belgium Jupiler League</td>\n",
       "      <td>Belgium</td>\n",
       "    </tr>\n",
       "    <tr>\n",
       "      <th>1</th>\n",
       "      <td>379</td>\n",
       "      <td>1</td>\n",
       "      <td>2009/2010</td>\n",
       "      <td>19</td>\n",
       "      <td>2010-02-04</td>\n",
       "      <td>665630</td>\n",
       "      <td>9986</td>\n",
       "      <td>9985</td>\n",
       "      <td>2</td>\n",
       "      <td>3</td>\n",
       "      <td>2010</td>\n",
       "      <td>Belgium Jupiler League</td>\n",
       "      <td>Belgium</td>\n",
       "    </tr>\n",
       "    <tr>\n",
       "      <th>2</th>\n",
       "      <td>382</td>\n",
       "      <td>1</td>\n",
       "      <td>2009/2010</td>\n",
       "      <td>19</td>\n",
       "      <td>2010-02-02</td>\n",
       "      <td>665634</td>\n",
       "      <td>8203</td>\n",
       "      <td>9993</td>\n",
       "      <td>1</td>\n",
       "      <td>0</td>\n",
       "      <td>2010</td>\n",
       "      <td>Belgium Jupiler League</td>\n",
       "      <td>Belgium</td>\n",
       "    </tr>\n",
       "    <tr>\n",
       "      <th>3</th>\n",
       "      <td>405</td>\n",
       "      <td>1</td>\n",
       "      <td>2009/2010</td>\n",
       "      <td>22</td>\n",
       "      <td>2010-01-30</td>\n",
       "      <td>665665</td>\n",
       "      <td>8342</td>\n",
       "      <td>10001</td>\n",
       "      <td>2</td>\n",
       "      <td>1</td>\n",
       "      <td>2010</td>\n",
       "      <td>Belgium Jupiler League</td>\n",
       "      <td>Belgium</td>\n",
       "    </tr>\n",
       "    <tr>\n",
       "      <th>4</th>\n",
       "      <td>406</td>\n",
       "      <td>1</td>\n",
       "      <td>2009/2010</td>\n",
       "      <td>22</td>\n",
       "      <td>2010-01-17</td>\n",
       "      <td>665666</td>\n",
       "      <td>9985</td>\n",
       "      <td>8635</td>\n",
       "      <td>0</td>\n",
       "      <td>4</td>\n",
       "      <td>2010</td>\n",
       "      <td>Belgium Jupiler League</td>\n",
       "      <td>Belgium</td>\n",
       "    </tr>\n",
       "  </tbody>\n",
       "</table>\n",
       "</div>"
      ],
      "text/plain": [
       "    id  league_id     season  stage       date  match_api_id  \\\n",
       "0  377          1  2009/2010     19 2010-02-03        665626   \n",
       "1  379          1  2009/2010     19 2010-02-04        665630   \n",
       "2  382          1  2009/2010     19 2010-02-02        665634   \n",
       "3  405          1  2009/2010     22 2010-01-30        665665   \n",
       "4  406          1  2009/2010     22 2010-01-17        665666   \n",
       "\n",
       "   home_team_api_id  away_team_api_id  home_team_goal  away_team_goal  Year  \\\n",
       "0              8635              8342               3               2  2010   \n",
       "1              9986              9985               2               3  2010   \n",
       "2              8203              9993               1               0  2010   \n",
       "3              8342             10001               2               1  2010   \n",
       "4              9985              8635               0               4  2010   \n",
       "\n",
       "              league_name country_name  \n",
       "0  Belgium Jupiler League      Belgium  \n",
       "1  Belgium Jupiler League      Belgium  \n",
       "2  Belgium Jupiler League      Belgium  \n",
       "3  Belgium Jupiler League      Belgium  \n",
       "4  Belgium Jupiler League      Belgium  "
      ]
     },
     "execution_count": 283,
     "metadata": {},
     "output_type": "execute_result"
    }
   ],
   "source": [
    "Match_League_Country = pd.merge(left=match, right=LeagueCoun, on='league_id')\n",
    "Match_League_Country.head()"
   ]
  },
  {
   "cell_type": "code",
   "execution_count": 364,
   "metadata": {},
   "outputs": [
    {
     "name": "stdout",
     "output_type": "stream",
     "text": [
      "already these columns were dropped!\n"
     ]
    }
   ],
   "source": [
    "# deleting the [LeagueCoun] as we don't need it now after constructing [Match_League_Country]\n",
    "# del LeagueCoun\n",
    "\n",
    "# droping not important columns in the new DataFrame.\n",
    "# we notice that all country_ids is the same for their league_ids \n",
    "try:\n",
    "    Match_League_Country.drop(columns=['id', 'league_id'], inplace=True)\n",
    "except:\n",
    "    print('already these columns were dropped!')\n"
   ]
  },
  {
   "cell_type": "code",
   "execution_count": 365,
   "metadata": {},
   "outputs": [],
   "source": [
    "# making a new column [Total_goals].\n",
    "Match_League_Country['Total_goals'] = Match_League_Country.home_team_goal + Match_League_Country.away_team_goal"
   ]
  },
  {
   "cell_type": "code",
   "execution_count": 366,
   "metadata": {},
   "outputs": [
    {
     "data": {
      "text/html": [
       "<div>\n",
       "<style scoped>\n",
       "    .dataframe tbody tr th:only-of-type {\n",
       "        vertical-align: middle;\n",
       "    }\n",
       "\n",
       "    .dataframe tbody tr th {\n",
       "        vertical-align: top;\n",
       "    }\n",
       "\n",
       "    .dataframe thead th {\n",
       "        text-align: right;\n",
       "    }\n",
       "</style>\n",
       "<table border=\"1\" class=\"dataframe\">\n",
       "  <thead>\n",
       "    <tr style=\"text-align: right;\">\n",
       "      <th></th>\n",
       "      <th>season</th>\n",
       "      <th>stage</th>\n",
       "      <th>date</th>\n",
       "      <th>match_api_id</th>\n",
       "      <th>home_team_api_id</th>\n",
       "      <th>away_team_api_id</th>\n",
       "      <th>home_team_goal</th>\n",
       "      <th>away_team_goal</th>\n",
       "      <th>Year</th>\n",
       "      <th>league_name</th>\n",
       "      <th>country_name</th>\n",
       "      <th>Total_goals</th>\n",
       "    </tr>\n",
       "  </thead>\n",
       "  <tbody>\n",
       "    <tr>\n",
       "      <th>0</th>\n",
       "      <td>2009/2010</td>\n",
       "      <td>19</td>\n",
       "      <td>2010-02-03</td>\n",
       "      <td>665626</td>\n",
       "      <td>8635</td>\n",
       "      <td>8342</td>\n",
       "      <td>3</td>\n",
       "      <td>2</td>\n",
       "      <td>2010</td>\n",
       "      <td>Belgium Jupiler League</td>\n",
       "      <td>Belgium</td>\n",
       "      <td>5</td>\n",
       "    </tr>\n",
       "    <tr>\n",
       "      <th>1</th>\n",
       "      <td>2009/2010</td>\n",
       "      <td>19</td>\n",
       "      <td>2010-02-04</td>\n",
       "      <td>665630</td>\n",
       "      <td>9986</td>\n",
       "      <td>9985</td>\n",
       "      <td>2</td>\n",
       "      <td>3</td>\n",
       "      <td>2010</td>\n",
       "      <td>Belgium Jupiler League</td>\n",
       "      <td>Belgium</td>\n",
       "      <td>5</td>\n",
       "    </tr>\n",
       "    <tr>\n",
       "      <th>2</th>\n",
       "      <td>2009/2010</td>\n",
       "      <td>19</td>\n",
       "      <td>2010-02-02</td>\n",
       "      <td>665634</td>\n",
       "      <td>8203</td>\n",
       "      <td>9993</td>\n",
       "      <td>1</td>\n",
       "      <td>0</td>\n",
       "      <td>2010</td>\n",
       "      <td>Belgium Jupiler League</td>\n",
       "      <td>Belgium</td>\n",
       "      <td>1</td>\n",
       "    </tr>\n",
       "    <tr>\n",
       "      <th>3</th>\n",
       "      <td>2009/2010</td>\n",
       "      <td>22</td>\n",
       "      <td>2010-01-30</td>\n",
       "      <td>665665</td>\n",
       "      <td>8342</td>\n",
       "      <td>10001</td>\n",
       "      <td>2</td>\n",
       "      <td>1</td>\n",
       "      <td>2010</td>\n",
       "      <td>Belgium Jupiler League</td>\n",
       "      <td>Belgium</td>\n",
       "      <td>3</td>\n",
       "    </tr>\n",
       "    <tr>\n",
       "      <th>4</th>\n",
       "      <td>2009/2010</td>\n",
       "      <td>22</td>\n",
       "      <td>2010-01-17</td>\n",
       "      <td>665666</td>\n",
       "      <td>9985</td>\n",
       "      <td>8635</td>\n",
       "      <td>0</td>\n",
       "      <td>4</td>\n",
       "      <td>2010</td>\n",
       "      <td>Belgium Jupiler League</td>\n",
       "      <td>Belgium</td>\n",
       "      <td>4</td>\n",
       "    </tr>\n",
       "  </tbody>\n",
       "</table>\n",
       "</div>"
      ],
      "text/plain": [
       "      season  stage       date  match_api_id  home_team_api_id  \\\n",
       "0  2009/2010     19 2010-02-03        665626              8635   \n",
       "1  2009/2010     19 2010-02-04        665630              9986   \n",
       "2  2009/2010     19 2010-02-02        665634              8203   \n",
       "3  2009/2010     22 2010-01-30        665665              8342   \n",
       "4  2009/2010     22 2010-01-17        665666              9985   \n",
       "\n",
       "   away_team_api_id  home_team_goal  away_team_goal  Year  \\\n",
       "0              8342               3               2  2010   \n",
       "1              9985               2               3  2010   \n",
       "2              9993               1               0  2010   \n",
       "3             10001               2               1  2010   \n",
       "4              8635               0               4  2010   \n",
       "\n",
       "              league_name country_name  Total_goals  \n",
       "0  Belgium Jupiler League      Belgium            5  \n",
       "1  Belgium Jupiler League      Belgium            5  \n",
       "2  Belgium Jupiler League      Belgium            1  \n",
       "3  Belgium Jupiler League      Belgium            3  \n",
       "4  Belgium Jupiler League      Belgium            4  "
      ]
     },
     "execution_count": 366,
     "metadata": {},
     "output_type": "execute_result"
    }
   ],
   "source": [
    "Match_League_Country.head()"
   ]
  },
  {
   "cell_type": "markdown",
   "metadata": {},
   "source": [
    "### Our final data tables which we have and will use: "
   ]
  },
  {
   "cell_type": "code",
   "execution_count": 298,
   "metadata": {},
   "outputs": [
    {
     "data": {
      "text/html": [
       "<div>\n",
       "<style scoped>\n",
       "    .dataframe tbody tr th:only-of-type {\n",
       "        vertical-align: middle;\n",
       "    }\n",
       "\n",
       "    .dataframe tbody tr th {\n",
       "        vertical-align: top;\n",
       "    }\n",
       "\n",
       "    .dataframe thead th {\n",
       "        text-align: right;\n",
       "    }\n",
       "</style>\n",
       "<table border=\"1\" class=\"dataframe\">\n",
       "  <thead>\n",
       "    <tr style=\"text-align: right;\">\n",
       "      <th></th>\n",
       "      <th>player_name</th>\n",
       "      <th>height</th>\n",
       "      <th>weight</th>\n",
       "      <th>Age</th>\n",
       "      <th>date</th>\n",
       "      <th>overall_rating</th>\n",
       "      <th>potential</th>\n",
       "      <th>preferred_foot</th>\n",
       "      <th>attacking_work_rate</th>\n",
       "      <th>defensive_work_rate</th>\n",
       "      <th>crossing</th>\n",
       "      <th>finishing</th>\n",
       "      <th>heading_accuracy</th>\n",
       "      <th>short_passing</th>\n",
       "      <th>volleys</th>\n",
       "      <th>dribbling</th>\n",
       "      <th>curve</th>\n",
       "      <th>free_kick_accuracy</th>\n",
       "      <th>long_passing</th>\n",
       "      <th>ball_control</th>\n",
       "      <th>acceleration</th>\n",
       "      <th>sprint_speed</th>\n",
       "      <th>agility</th>\n",
       "      <th>reactions</th>\n",
       "      <th>balance</th>\n",
       "      <th>shot_power</th>\n",
       "      <th>jumping</th>\n",
       "      <th>stamina</th>\n",
       "      <th>strength</th>\n",
       "      <th>long_shots</th>\n",
       "      <th>aggression</th>\n",
       "      <th>interceptions</th>\n",
       "      <th>positioning</th>\n",
       "      <th>vision</th>\n",
       "      <th>penalties</th>\n",
       "      <th>marking</th>\n",
       "      <th>standing_tackle</th>\n",
       "      <th>sliding_tackle</th>\n",
       "      <th>gk_diving</th>\n",
       "      <th>gk_handling</th>\n",
       "      <th>gk_kicking</th>\n",
       "      <th>gk_positioning</th>\n",
       "      <th>gk_reflexes</th>\n",
       "      <th>Year</th>\n",
       "    </tr>\n",
       "  </thead>\n",
       "  <tbody>\n",
       "    <tr>\n",
       "      <th>0</th>\n",
       "      <td>Aaron Appindangoye</td>\n",
       "      <td>182.88</td>\n",
       "      <td>187</td>\n",
       "      <td>30</td>\n",
       "      <td>2015-11-19</td>\n",
       "      <td>67.0</td>\n",
       "      <td>71.0</td>\n",
       "      <td>right</td>\n",
       "      <td>medium</td>\n",
       "      <td>medium</td>\n",
       "      <td>49.0</td>\n",
       "      <td>44.0</td>\n",
       "      <td>71.0</td>\n",
       "      <td>61.0</td>\n",
       "      <td>44.0</td>\n",
       "      <td>51.0</td>\n",
       "      <td>45.0</td>\n",
       "      <td>39.0</td>\n",
       "      <td>64.0</td>\n",
       "      <td>49.0</td>\n",
       "      <td>60.0</td>\n",
       "      <td>64.0</td>\n",
       "      <td>59.0</td>\n",
       "      <td>47.0</td>\n",
       "      <td>65.0</td>\n",
       "      <td>55.0</td>\n",
       "      <td>58.0</td>\n",
       "      <td>54.0</td>\n",
       "      <td>76.0</td>\n",
       "      <td>35.0</td>\n",
       "      <td>71.0</td>\n",
       "      <td>70.0</td>\n",
       "      <td>45.0</td>\n",
       "      <td>54.0</td>\n",
       "      <td>48.0</td>\n",
       "      <td>65.0</td>\n",
       "      <td>69.0</td>\n",
       "      <td>69.0</td>\n",
       "      <td>6.0</td>\n",
       "      <td>11.0</td>\n",
       "      <td>10.0</td>\n",
       "      <td>8.0</td>\n",
       "      <td>8.0</td>\n",
       "      <td>2015</td>\n",
       "    </tr>\n",
       "  </tbody>\n",
       "</table>\n",
       "</div>"
      ],
      "text/plain": [
       "          player_name  height  weight  Age       date  overall_rating  \\\n",
       "0  Aaron Appindangoye  182.88     187   30 2015-11-19            67.0   \n",
       "\n",
       "   potential preferred_foot attacking_work_rate defensive_work_rate  crossing  \\\n",
       "0       71.0          right              medium              medium      49.0   \n",
       "\n",
       "   finishing  heading_accuracy  short_passing  volleys  dribbling  curve  \\\n",
       "0       44.0              71.0           61.0     44.0       51.0   45.0   \n",
       "\n",
       "   free_kick_accuracy  long_passing  ball_control  acceleration  sprint_speed  \\\n",
       "0                39.0          64.0          49.0          60.0          64.0   \n",
       "\n",
       "   agility  reactions  balance  shot_power  jumping  stamina  strength  \\\n",
       "0     59.0       47.0     65.0        55.0     58.0     54.0      76.0   \n",
       "\n",
       "   long_shots  aggression  interceptions  positioning  vision  penalties  \\\n",
       "0        35.0        71.0           70.0         45.0    54.0       48.0   \n",
       "\n",
       "   marking  standing_tackle  sliding_tackle  gk_diving  gk_handling  \\\n",
       "0     65.0             69.0            69.0        6.0         11.0   \n",
       "\n",
       "   gk_kicking  gk_positioning  gk_reflexes  Year  \n",
       "0        10.0             8.0          8.0  2015  "
      ]
     },
     "execution_count": 298,
     "metadata": {},
     "output_type": "execute_result"
    }
   ],
   "source": [
    "PlayerData.head(1)"
   ]
  },
  {
   "cell_type": "code",
   "execution_count": 299,
   "metadata": {},
   "outputs": [
    {
     "data": {
      "text/html": [
       "<div>\n",
       "<style scoped>\n",
       "    .dataframe tbody tr th:only-of-type {\n",
       "        vertical-align: middle;\n",
       "    }\n",
       "\n",
       "    .dataframe tbody tr th {\n",
       "        vertical-align: top;\n",
       "    }\n",
       "\n",
       "    .dataframe thead th {\n",
       "        text-align: right;\n",
       "    }\n",
       "</style>\n",
       "<table border=\"1\" class=\"dataframe\">\n",
       "  <thead>\n",
       "    <tr style=\"text-align: right;\">\n",
       "      <th></th>\n",
       "      <th>team_api_id</th>\n",
       "      <th>team_long_name</th>\n",
       "      <th>team_short_name</th>\n",
       "      <th>buildUpPlaySpeed</th>\n",
       "      <th>buildUpPlaySpeedClass</th>\n",
       "      <th>buildUpPlayDribblingClass</th>\n",
       "      <th>buildUpPlayPassing</th>\n",
       "      <th>buildUpPlayPassingClass</th>\n",
       "      <th>buildUpPlayPositioningClass</th>\n",
       "      <th>chanceCreationPassing</th>\n",
       "      <th>chanceCreationPassingClass</th>\n",
       "      <th>chanceCreationCrossing</th>\n",
       "      <th>chanceCreationCrossingClass</th>\n",
       "      <th>chanceCreationShooting</th>\n",
       "      <th>chanceCreationShootingClass</th>\n",
       "      <th>chanceCreationPositioningClass</th>\n",
       "      <th>defencePressure</th>\n",
       "      <th>defencePressureClass</th>\n",
       "      <th>defenceAggression</th>\n",
       "      <th>defenceAggressionClass</th>\n",
       "      <th>defenceTeamWidth</th>\n",
       "      <th>defenceTeamWidthClass</th>\n",
       "      <th>defenceDefenderLineClass</th>\n",
       "      <th>Year</th>\n",
       "    </tr>\n",
       "  </thead>\n",
       "  <tbody>\n",
       "    <tr>\n",
       "      <th>0</th>\n",
       "      <td>9987</td>\n",
       "      <td>KRC Genk</td>\n",
       "      <td>GEN</td>\n",
       "      <td>45</td>\n",
       "      <td>Balanced</td>\n",
       "      <td>Little</td>\n",
       "      <td>45</td>\n",
       "      <td>Mixed</td>\n",
       "      <td>Organised</td>\n",
       "      <td>50</td>\n",
       "      <td>Normal</td>\n",
       "      <td>35</td>\n",
       "      <td>Normal</td>\n",
       "      <td>60</td>\n",
       "      <td>Normal</td>\n",
       "      <td>Organised</td>\n",
       "      <td>70</td>\n",
       "      <td>High</td>\n",
       "      <td>65</td>\n",
       "      <td>Press</td>\n",
       "      <td>70</td>\n",
       "      <td>Wide</td>\n",
       "      <td>Cover</td>\n",
       "      <td>2010</td>\n",
       "    </tr>\n",
       "  </tbody>\n",
       "</table>\n",
       "</div>"
      ],
      "text/plain": [
       "   team_api_id team_long_name team_short_name  buildUpPlaySpeed  \\\n",
       "0         9987       KRC Genk             GEN                45   \n",
       "\n",
       "  buildUpPlaySpeedClass buildUpPlayDribblingClass  buildUpPlayPassing  \\\n",
       "0              Balanced                    Little                  45   \n",
       "\n",
       "  buildUpPlayPassingClass buildUpPlayPositioningClass  chanceCreationPassing  \\\n",
       "0                   Mixed                   Organised                     50   \n",
       "\n",
       "  chanceCreationPassingClass  chanceCreationCrossing  \\\n",
       "0                     Normal                      35   \n",
       "\n",
       "  chanceCreationCrossingClass  chanceCreationShooting  \\\n",
       "0                      Normal                      60   \n",
       "\n",
       "  chanceCreationShootingClass chanceCreationPositioningClass  defencePressure  \\\n",
       "0                      Normal                      Organised               70   \n",
       "\n",
       "  defencePressureClass  defenceAggression defenceAggressionClass  \\\n",
       "0                 High                 65                  Press   \n",
       "\n",
       "   defenceTeamWidth defenceTeamWidthClass defenceDefenderLineClass  Year  \n",
       "0                70                  Wide                    Cover  2010  "
      ]
     },
     "execution_count": 299,
     "metadata": {},
     "output_type": "execute_result"
    }
   ],
   "source": [
    "TeamData.head(1)"
   ]
  },
  {
   "cell_type": "code",
   "execution_count": 367,
   "metadata": {},
   "outputs": [
    {
     "data": {
      "text/html": [
       "<div>\n",
       "<style scoped>\n",
       "    .dataframe tbody tr th:only-of-type {\n",
       "        vertical-align: middle;\n",
       "    }\n",
       "\n",
       "    .dataframe tbody tr th {\n",
       "        vertical-align: top;\n",
       "    }\n",
       "\n",
       "    .dataframe thead th {\n",
       "        text-align: right;\n",
       "    }\n",
       "</style>\n",
       "<table border=\"1\" class=\"dataframe\">\n",
       "  <thead>\n",
       "    <tr style=\"text-align: right;\">\n",
       "      <th></th>\n",
       "      <th>season</th>\n",
       "      <th>stage</th>\n",
       "      <th>date</th>\n",
       "      <th>match_api_id</th>\n",
       "      <th>home_team_api_id</th>\n",
       "      <th>away_team_api_id</th>\n",
       "      <th>home_team_goal</th>\n",
       "      <th>away_team_goal</th>\n",
       "      <th>Year</th>\n",
       "      <th>league_name</th>\n",
       "      <th>country_name</th>\n",
       "      <th>Total_goals</th>\n",
       "    </tr>\n",
       "  </thead>\n",
       "  <tbody>\n",
       "    <tr>\n",
       "      <th>0</th>\n",
       "      <td>2009/2010</td>\n",
       "      <td>19</td>\n",
       "      <td>2010-02-03</td>\n",
       "      <td>665626</td>\n",
       "      <td>8635</td>\n",
       "      <td>8342</td>\n",
       "      <td>3</td>\n",
       "      <td>2</td>\n",
       "      <td>2010</td>\n",
       "      <td>Belgium Jupiler League</td>\n",
       "      <td>Belgium</td>\n",
       "      <td>5</td>\n",
       "    </tr>\n",
       "  </tbody>\n",
       "</table>\n",
       "</div>"
      ],
      "text/plain": [
       "      season  stage       date  match_api_id  home_team_api_id  \\\n",
       "0  2009/2010     19 2010-02-03        665626              8635   \n",
       "\n",
       "   away_team_api_id  home_team_goal  away_team_goal  Year  \\\n",
       "0              8342               3               2  2010   \n",
       "\n",
       "              league_name country_name  Total_goals  \n",
       "0  Belgium Jupiler League      Belgium            5  "
      ]
     },
     "execution_count": 367,
     "metadata": {},
     "output_type": "execute_result"
    }
   ],
   "source": [
    "Match_League_Country.head(1)"
   ]
  },
  {
   "cell_type": "markdown",
   "metadata": {},
   "source": [
    "<a id='eda'></a>\n",
    "# **Exploratory Data Analysis**\n",
    "\n",
    "> **Tip**: Now that you've trimmed and cleaned your data, you're ready to move on to exploration. Compute statistics and create visualizations with the goal of addressing the research questions that you posed in the Introduction section. It is recommended that you be systematic with your approach. Look at one variable at a time, and then follow it up by looking at relationships between variables.\n",
    "\n",
    "### 1) What is the league with the most goals all over the 3 years we focus on?"
   ]
  },
  {
   "cell_type": "code",
   "execution_count": 430,
   "metadata": {
    "collapsed": true
   },
   "outputs": [
    {
     "data": {
      "image/png": "[encoded data removed]",
      "text/plain": [
       "<Figure size 432x288 with 1 Axes>"
      ]
     },
     "metadata": {
      "needs_background": "light"
     },
     "output_type": "display_data"
    }
   ],
   "source": [
    "goal_2010 = Match_League_Country.query('Year == 2010')\n",
    "propotions = goal_2010.groupby(['league_name']).mean()['Total_goals'].nlargest(3).plot.bar()\n",
    "goal_2012 = Match_League_Country.query('Year == 2012')\n",
    "propotions = goal_2010.groupby(['league_name']).mean()['Total_goals'].nlargest(3).plot.bar()\n",
    "goal_2015 = Match_League_Country.query('Year == 2015')\n",
    "propotions = goal_2010.groupby(['league_name']).mean()['Total_goals'].nlargest(3).plot.bar()\n",
    "\n"
   ]
  },
  {
   "cell_type": "code",
   "execution_count": 329,
   "metadata": {},
   "outputs": [
    {
     "data": {
      "text/plain": [
       "<AxesSubplot:xlabel='[overall_rating]', ylabel='potential'>"
      ]
     },
     "execution_count": 329,
     "metadata": {},
     "output_type": "execute_result"
    },
    {
     "data": {
      "image/png": "[encoded data removed]",
      "text/plain": [
       "<Figure size 432x288 with 1 Axes>"
      ]
     },
     "metadata": {
      "needs_background": "light"
     },
     "output_type": "display_data"
    }
   ],
   "source": [
    "PlayerData.plot(kind='scatter', y='potential', x=['overall_rating'])"
   ]
  },
  {
   "cell_type": "markdown",
   "metadata": {},
   "source": [
    "### Research Question 2  (Replace this header name!)"
   ]
  },
  {
   "cell_type": "code",
   "execution_count": null,
   "metadata": {
    "collapsed": true
   },
   "outputs": [],
   "source": [
    "# Continue to explore the data to address your additional research\n",
    "#   questions. Add more headers as needed if you have more questions to\n",
    "#   investigate.\n"
   ]
  },
  {
   "cell_type": "markdown",
   "metadata": {},
   "source": [
    "<a id='conclusions'></a>\n",
    "## Conclusions\n",
    "\n",
    "> **Tip**: Finally, summarize your findings and the results that have been performed. Make sure that you are clear with regards to the limitations of your exploration. If you haven't done any statistical tests, do not imply any statistical conclusions. And make sure you avoid implying causation from correlation!\n",
    "\n",
    "> **Tip**: Once you are satisfied with your work, you should save a copy of the report in HTML or PDF form via the **File** > **Download as** submenu. Before exporting your report, check over it to make sure that the flow of the report is complete. You should probably remove all of the \"Tip\" quotes like this one so that the presentation is as tidy as possible. Congratulations!"
   ]
  },
  {
   "cell_type": "code",
   "execution_count": null,
   "metadata": {
    "collapsed": true
   },
   "outputs": [],
   "source": []
  },
  {
   "cell_type": "code",
   "execution_count": null,
   "metadata": {},
   "outputs": [],
   "source": []
  }
 ],
 "metadata": {
  "kernelspec": {
   "display_name": "Python [default]",
   "language": "python",
   "name": "python3"
  },
  "language_info": {
   "codemirror_mode": {
    "name": "ipython",
    "version": 3
   },
   "file_extension": ".py",
   "mimetype": "text/x-python",
   "name": "python",
   "nbconvert_exporter": "python",
   "pygments_lexer": "ipython3",
   "version": "3.8.10"
  }
 },
 "nbformat": 4,
 "nbformat_minor": 2
}
